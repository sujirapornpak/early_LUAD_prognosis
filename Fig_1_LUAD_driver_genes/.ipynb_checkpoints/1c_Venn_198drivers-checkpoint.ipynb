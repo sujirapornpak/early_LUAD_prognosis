{
 "cells": [
  {
   "cell_type": "code",
   "execution_count": 1,
   "id": "9f3f1015-56c8-432c-aaa6-250b8be727b5",
   "metadata": {},
   "outputs": [],
   "source": [
    "##STEP 1.1: Import required python libraries (matplotlib, pandas, numpy).\n",
    "\n",
    "%matplotlib inline\n",
    "import pandas as pd\n",
    "import numpy as np\n",
    "import matplotlib.pyplot as plt\n",
    "import seaborn as sns"
   ]
  },
  {
   "cell_type": "markdown",
   "id": "a74ca14b-f8aa-4960-9455-f623255c1f5a",
   "metadata": {},
   "source": [
    "## STEP 1: Venn diagram for 198 LUAD-specific Drivers"
   ]
  },
  {
   "cell_type": "markdown",
   "id": "a04632bb-8a75-4aab-a4ca-5cff0923307d",
   "metadata": {},
   "source": [
    "#### STEP1.1: Open gene list file"
   ]
  },
  {
   "cell_type": "code",
   "execution_count": 2,
   "id": "6b9cf780-dc54-409d-b4af-b36f557d96ed",
   "metadata": {},
   "outputs": [
    {
     "data": {
      "text/html": [
       "<div>\n",
       "<style scoped>\n",
       "    .dataframe tbody tr th:only-of-type {\n",
       "        vertical-align: middle;\n",
       "    }\n",
       "\n",
       "    .dataframe tbody tr th {\n",
       "        vertical-align: top;\n",
       "    }\n",
       "\n",
       "    .dataframe thead th {\n",
       "        text-align: right;\n",
       "    }\n",
       "</style>\n",
       "<table border=\"1\" class=\"dataframe\">\n",
       "  <thead>\n",
       "    <tr style=\"text-align: right;\">\n",
       "      <th></th>\n",
       "      <th>Rubio-Perez(2015)_181</th>\n",
       "      <th>Bailey(2018)_20</th>\n",
       "      <th>Bailey(2020)_34</th>\n",
       "      <th>PooledLUADdrivers_198</th>\n",
       "      <th>LUAD-Early_47</th>\n",
       "      <th>Remaining_151Drivers</th>\n",
       "      <th>F1CDx_324(Milbury2022)</th>\n",
       "      <th>Trueseq_48(Illumina)</th>\n",
       "      <th>Pancan_127(Kandoth2013)</th>\n",
       "      <th>FoundationOne_to299</th>\n",
       "      <th>Truseq_to47</th>\n",
       "      <th>PanCan_to121</th>\n",
       "    </tr>\n",
       "  </thead>\n",
       "  <tbody>\n",
       "    <tr>\n",
       "      <th>0</th>\n",
       "      <td>ACAD8</td>\n",
       "      <td>ARID1A</td>\n",
       "      <td>AFF2</td>\n",
       "      <td>ACAD8</td>\n",
       "      <td>AFF2</td>\n",
       "      <td>ACAD8</td>\n",
       "      <td>ABL1</td>\n",
       "      <td>ABL1</td>\n",
       "      <td>ACVR1B</td>\n",
       "      <td>ABL1</td>\n",
       "      <td>ABL1</td>\n",
       "      <td>ACVR1B</td>\n",
       "    </tr>\n",
       "    <tr>\n",
       "      <th>...</th>\n",
       "      <td>...</td>\n",
       "      <td>...</td>\n",
       "      <td>...</td>\n",
       "      <td>...</td>\n",
       "      <td>...</td>\n",
       "      <td>...</td>\n",
       "      <td>...</td>\n",
       "      <td>...</td>\n",
       "      <td>...</td>\n",
       "      <td>...</td>\n",
       "      <td>...</td>\n",
       "      <td>...</td>\n",
       "    </tr>\n",
       "    <tr>\n",
       "      <th>323</th>\n",
       "      <td>NaN</td>\n",
       "      <td>NaN</td>\n",
       "      <td>NaN</td>\n",
       "      <td>NaN</td>\n",
       "      <td>NaN</td>\n",
       "      <td>NaN</td>\n",
       "      <td>ZNF703</td>\n",
       "      <td>NaN</td>\n",
       "      <td>NaN</td>\n",
       "      <td>NaN</td>\n",
       "      <td>NaN</td>\n",
       "      <td>NaN</td>\n",
       "    </tr>\n",
       "  </tbody>\n",
       "</table>\n",
       "<p>324 rows × 12 columns</p>\n",
       "</div>"
      ],
      "text/plain": [
       "    Rubio-Perez(2015)_181 Bailey(2018)_20 Bailey(2020)_34  \\\n",
       "0                   ACAD8          ARID1A            AFF2   \n",
       "..                    ...             ...             ...   \n",
       "323                   NaN             NaN             NaN   \n",
       "\n",
       "    PooledLUADdrivers_198 LUAD-Early_47 Remaining_151Drivers  \\\n",
       "0                   ACAD8          AFF2                ACAD8   \n",
       "..                    ...           ...                  ...   \n",
       "323                   NaN           NaN                  NaN   \n",
       "\n",
       "    F1CDx_324(Milbury2022) Trueseq_48(Illumina) Pancan_127(Kandoth2013)  \\\n",
       "0                     ABL1                 ABL1                  ACVR1B   \n",
       "..                     ...                  ...                     ...   \n",
       "323                 ZNF703                  NaN                     NaN   \n",
       "\n",
       "    FoundationOne_to299 Truseq_to47 PanCan_to121  \n",
       "0                  ABL1        ABL1       ACVR1B  \n",
       "..                  ...         ...          ...  \n",
       "323                 NaN         NaN          NaN  \n",
       "\n",
       "[324 rows x 12 columns]"
      ]
     },
     "metadata": {},
     "output_type": "display_data"
    }
   ],
   "source": [
    "df1 = pd.read_csv('../01_Gene_lists/SuppTable1_All_Drivers_GeneList.tsv', sep=\"\\t\",header=0)\n",
    "with pd.option_context('display.max_rows',2): display(df1)"
   ]
  },
  {
   "cell_type": "code",
   "execution_count": 3,
   "id": "87a28b4d-d3ea-4eef-9dfb-c09bd89fde4b",
   "metadata": {},
   "outputs": [],
   "source": [
    "driv1_181 =df1['Rubio-Perez(2015)_181'].dropna().unique().tolist() # len()=181\n",
    "driv2_20 =df1['Bailey(2018)_20'].dropna().unique().tolist() # len()=20\n",
    "driv3_34 =df1['Bailey(2020)_34'].dropna().unique().tolist() # len()=34"
   ]
  },
  {
   "cell_type": "code",
   "execution_count": 4,
   "id": "d9f4103d-1403-4432-bc16-159d9eb9ef16",
   "metadata": {},
   "outputs": [
    {
     "data": {
      "text/plain": [
       "181"
      ]
     },
     "execution_count": 4,
     "metadata": {},
     "output_type": "execute_result"
    }
   ],
   "source": [
    "len(driv1_181)"
   ]
  },
  {
   "cell_type": "code",
   "execution_count": 5,
   "id": "84c0a28f-79d1-4bcd-8fbe-78f3dd7a049e",
   "metadata": {},
   "outputs": [
    {
     "data": {
      "text/plain": [
       "198"
      ]
     },
     "execution_count": 5,
     "metadata": {},
     "output_type": "execute_result"
    }
   ],
   "source": [
    "# Concat gene list\n",
    "drive_concat = np.concatenate((driv1_181,driv2_20,driv3_34), axis=None) #len()=235\n",
    "drive_concat198 = set(drive_concat) \n",
    "len(drive_concat198)"
   ]
  },
  {
   "cell_type": "markdown",
   "id": "7bb86804-076f-49db-a4e0-73804dabeb2f",
   "metadata": {},
   "source": [
    "#### STEP1.2: Venn diagram"
   ]
  },
  {
   "cell_type": "code",
   "execution_count": 9,
   "id": "1ec1a62d-559d-4010-a3f0-2f688b1ea059",
   "metadata": {},
   "outputs": [],
   "source": [
    "from collections import Counter\n",
    "from matplotlib_venn import venn2, venn3, venn3_circles,venn2_circles   #import matplotlib_venn as venn \n",
    "import matplotlib.pyplot as plt"
   ]
  },
  {
   "cell_type": "code",
   "execution_count": 10,
   "id": "014f169d-3579-4545-aee9-f49ffc9f8e6c",
   "metadata": {},
   "outputs": [
    {
     "name": "stdout",
     "output_type": "stream",
     "text": [
      "181 20 34 198\n"
     ]
    }
   ],
   "source": [
    "# Venn step 1: Find overlapping between 3) and 4) (Both are RidgeCV but use diff scores)\n",
    "\n",
    "A11 = set(driv1_181) \n",
    "A12 = set(driv2_20) \n",
    "A13 = set(driv3_34) \n",
    "A1 = set(drive_concat198)\n",
    "\n",
    "print(len(A11),len(A12),len(A13),len(A1)) # 181 20 34 198 "
   ]
  },
  {
   "cell_type": "code",
   "execution_count": 11,
   "id": "2d0a1974-c089-4299-b374-7e50c7a518b5",
   "metadata": {},
   "outputs": [
    {
     "name": "stderr",
     "output_type": "stream",
     "text": [
      "/opt/anaconda3/envs/sklearnenv/lib/python3.6/site-packages/matplotlib_venn/_venn3.py:117: UserWarning: Bad circle positioning\n",
      "  warnings.warn(\"Bad circle positioning\")\n",
      "/opt/anaconda3/envs/sklearnenv/lib/python3.6/site-packages/matplotlib_venn/_venn3.py:117: UserWarning: Bad circle positioning\n",
      "  warnings.warn(\"Bad circle positioning\")\n"
     ]
    },
    {
     "ename": "AttributeError",
     "evalue": "'NoneType' object has no attribute 'set_fontsize'",
     "output_type": "error",
     "traceback": [
      "\u001b[0;31m---------------------------------------------------------------------------\u001b[0m",
      "\u001b[0;31mAttributeError\u001b[0m                            Traceback (most recent call last)",
      "\u001b[0;32m<ipython-input-11-e5b9f5c04aee>\u001b[0m in \u001b[0;36m<module>\u001b[0;34m\u001b[0m\n\u001b[1;32m      6\u001b[0m     \u001b[0mtext\u001b[0m\u001b[0;34m.\u001b[0m\u001b[0mset_fontsize\u001b[0m\u001b[0;34m(\u001b[0m\u001b[0;36m15\u001b[0m\u001b[0;34m)\u001b[0m\u001b[0;34m;\u001b[0m\u001b[0;34m\u001b[0m\u001b[0;34m\u001b[0m\u001b[0m\n\u001b[1;32m      7\u001b[0m \u001b[0;32mfor\u001b[0m \u001b[0mtext\u001b[0m \u001b[0;32min\u001b[0m \u001b[0mvd3\u001b[0m\u001b[0;34m.\u001b[0m\u001b[0msubset_labels\u001b[0m\u001b[0;34m:\u001b[0m\u001b[0;34m\u001b[0m\u001b[0;34m\u001b[0m\u001b[0m\n\u001b[0;32m----> 8\u001b[0;31m     \u001b[0mtext\u001b[0m\u001b[0;34m.\u001b[0m\u001b[0mset_fontsize\u001b[0m\u001b[0;34m(\u001b[0m\u001b[0;36m16\u001b[0m\u001b[0;34m)\u001b[0m\u001b[0;34m\u001b[0m\u001b[0;34m\u001b[0m\u001b[0m\n\u001b[0m\u001b[1;32m      9\u001b[0m plt.title('Venn Diagram for 3 feature selection methods',fontname='Times New Roman',fontweight='bold',fontsize=20,\n\u001b[1;32m     10\u001b[0m  pad=30,backgroundcolor='#cbe7e3',color='black',style='italic');\n",
      "\u001b[0;31mAttributeError\u001b[0m: 'NoneType' object has no attribute 'set_fontsize'"
     ]
    },
    {
     "data": {
      "image/png": "[encoded data removed]",
      "text/plain": [
       "<Figure size 432x288 with 1 Axes>"
      ]
     },
     "metadata": {},
     "output_type": "display_data"
    }
   ],
   "source": [
    "vd3=venn3([A11,A12,A13],\n",
    "          set_labels=('Rubio-Perez(2015)\\nN=181', 'Bailey(2018)\\nN=20','Bailey(2020)\\nN=34'),\n",
    "          set_colors=('#c4e6ff', '#F4ACB7','#9D8189'), alpha = 0.8)\n",
    "venn3_circles([set(A11),set(A12),set(A13)], linestyle='-', linewidth=1, color='grey') # linestyle='-.'\n",
    "for text in vd3.set_labels:\n",
    "    text.set_fontsize(15);\n",
    "for text in vd3.subset_labels:\n",
    "    text.set_fontsize(16)\n",
    "plt.title('Venn Diagram for 3 feature selection methods',fontname='Times New Roman',fontweight='bold',fontsize=20,\n",
    " pad=30,backgroundcolor='#cbe7e3',color='black',style='italic');\n",
    "plt.show()"
   ]
  },
  {
   "cell_type": "code",
   "execution_count": null,
   "id": "3d525f39-fdb3-44c8-800b-d0e9d265ea6d",
   "metadata": {},
   "outputs": [],
   "source": []
  }
 ],
 "metadata": {
  "kernelspec": {
   "display_name": "Python 3",
   "language": "python",
   "name": "python3"
  },
  "language_info": {
   "codemirror_mode": {
    "name": "ipython",
    "version": 3
   },
   "file_extension": ".py",
   "mimetype": "text/x-python",
   "name": "python",
   "nbconvert_exporter": "python",
   "pygments_lexer": "ipython3",
   "version": "3.6.12"
  }
 },
 "nbformat": 4,
 "nbformat_minor": 5
}
