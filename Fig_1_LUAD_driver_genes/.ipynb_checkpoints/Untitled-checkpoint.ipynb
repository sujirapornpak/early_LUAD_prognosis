{
 "cells": [
  {
   "cell_type": "code",
   "execution_count": 1,
   "id": "46c9a197-ea1f-4857-b1c6-37a09d86e90b",
   "metadata": {},
   "outputs": [],
   "source": [
    "##STEP 1.1: Import required python libraries \n",
    "\n",
    "%matplotlib inline\n",
    "import pandas as pd\n",
    "import numpy as np\n",
    "import matplotlib.pyplot as plt\n",
    "import seaborn as sns"
   ]
  },
  {
   "cell_type": "code",
   "execution_count": 3,
   "id": "4aacc4fa-2c58-4c83-972b-da3d3aa4cdb9",
   "metadata": {
    "tags": []
   },
   "outputs": [],
   "source": [
    "# open list of driver genes file\n",
    "dff65=pd.read_csv(\"../../01_Gene_lists/SuppTable1_All_Drivers_GeneList.tsv\",sep='\\t',header=0) \n",
    "drivlist47 = dff65['LUAD-Early_47'].dropna().unique().tolist()\n",
    "len(drivlist47) # = 47"
   ]
  },
  {
   "cell_type": "code",
   "execution_count": 4,
   "id": "ba987bcc-c481-4e62-a2e8-2fde23c9f9cc",
   "metadata": {},
   "outputs": [
    {
     "data": {
      "text/plain": [
       "47"
      ]
     },
     "execution_count": 4,
     "metadata": {},
     "output_type": "execute_result"
    }
   ],
   "source": []
  }
 ],
 "metadata": {
  "kernelspec": {
   "display_name": "Python 3",
   "language": "python",
   "name": "python3"
  },
  "language_info": {
   "codemirror_mode": {
    "name": "ipython",
    "version": 3
   },
   "file_extension": ".py",
   "mimetype": "text/x-python",
   "name": "python",
   "nbconvert_exporter": "python",
   "pygments_lexer": "ipython3",
   "version": "3.6.12"
  }
 },
 "nbformat": 4,
 "nbformat_minor": 5
}
