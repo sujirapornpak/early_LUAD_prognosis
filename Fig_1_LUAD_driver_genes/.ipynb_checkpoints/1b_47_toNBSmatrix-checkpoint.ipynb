{
 "cells": [
  {
   "cell_type": "markdown",
   "id": "0b3f6dac",
   "metadata": {},
   "source": [
    "# Export preprocessed SNV file to NBS matrix"
   ]
  },
  {
   "cell_type": "code",
   "execution_count": 1,
   "id": "5827a661",
   "metadata": {},
   "outputs": [],
   "source": [
    "##STEP 1.1: Import required python libraries \n",
    "\n",
    "%matplotlib inline\n",
    "import pandas as pd\n",
    "import numpy as np\n",
    "import matplotlib.pyplot as plt\n",
    "import seaborn as sns"
   ]
  },
  {
   "cell_type": "code",
   "execution_count": null,
   "id": "fa1ff327-debe-40dd-ae8f-9fdd34415650",
   "metadata": {},
   "outputs": [],
   "source": []
  },
  {
   "cell_type": "markdown",
   "id": "3b2cc91d",
   "metadata": {},
   "source": [
    "### 15Feb2022: \n",
    "#### STEP 1: After successfully done Fisher's Exact test for 198 drivers, 198 were reduced to 47 drivers --> Export table to NBS (Network-Based Stratification)"
   ]
  },
  {
   "cell_type": "code",
   "execution_count": 2,
   "id": "81802448-380c-47c1-b99f-71de81233ba6",
   "metadata": {},
   "outputs": [
    {
     "data": {
      "text/html": [
       "<div>\n",
       "<style scoped>\n",
       "    .dataframe tbody tr th:only-of-type {\n",
       "        vertical-align: middle;\n",
       "    }\n",
       "\n",
       "    .dataframe tbody tr th {\n",
       "        vertical-align: top;\n",
       "    }\n",
       "\n",
       "    .dataframe thead th {\n",
       "        text-align: right;\n",
       "    }\n",
       "</style>\n",
       "<table border=\"1\" class=\"dataframe\">\n",
       "  <thead>\n",
       "    <tr style=\"text-align: right;\">\n",
       "      <th></th>\n",
       "      <th>sample_id</th>\n",
       "    </tr>\n",
       "    <tr>\n",
       "      <th>gene</th>\n",
       "      <th></th>\n",
       "    </tr>\n",
       "  </thead>\n",
       "  <tbody>\n",
       "    <tr>\n",
       "      <th>A1BG</th>\n",
       "      <td>TCGA-38-4631-01</td>\n",
       "    </tr>\n",
       "    <tr>\n",
       "      <th>...</th>\n",
       "      <td>...</td>\n",
       "    </tr>\n",
       "    <tr>\n",
       "      <th>ZZZ3</th>\n",
       "      <td>TCGA-86-6851-01</td>\n",
       "    </tr>\n",
       "  </tbody>\n",
       "</table>\n",
       "<p>101757 rows × 1 columns</p>\n",
       "</div>"
      ],
      "text/plain": [
       "            sample_id\n",
       "gene                 \n",
       "A1BG  TCGA-38-4631-01\n",
       "...               ...\n",
       "ZZZ3  TCGA-86-6851-01\n",
       "\n",
       "[101757 rows x 1 columns]"
      ]
     },
     "metadata": {},
     "output_type": "display_data"
    }
   ],
   "source": [
    "# open cleaned snv file\n",
    "df1 = pd.read_csv(\"./output/6.2_LUAD_snv_mc3_OUT_cleaned_cSIF.tsv\",sep='\\t',header=0)\n",
    "df2 = df1.copy()\n",
    "\n",
    "# Drop unused multiple (all) columns EXCEPT 'sample_id' and 'gene'\n",
    "df3=df2.drop(['chr','start','end','reference','alt','effect','Amino_Acid_Change','DNA_VAF',\n",
    "               'SIFT','PolyPhen','tumor_stage','SIFT2','PolyPhen2'],axis=1)\n",
    "\n",
    "df4 = df3.set_index('gene')\n",
    "df4 = df4.sort_index(ascending=True)\n",
    "with pd.option_context('display.max_rows',2): display(df4) # 101757 rows × 1 columns"
   ]
  },
  {
   "cell_type": "code",
   "execution_count": 3,
   "id": "5f78fd28",
   "metadata": {},
   "outputs": [
    {
     "name": "stdout",
     "output_type": "stream",
     "text": [
      "['AFF2', 'AMER1', 'ARID1A', 'ASXL3', 'ATM', 'BAZ2B', 'BRAF', 'CDH12', 'CDK12', 'CDKN2A', 'COL1A1', 'CREBBP', 'CTNNB1', 'DNMT3A', 'EGFR', 'EIF4G1', 'EPHA4', 'FAT1', 'FN1', 'KDR', 'KEAP1', 'KMT2A', 'KMT2C', 'KRAS', 'LPHN2', 'MAP3K4', 'MET', 'MGA', 'MMP16', 'MMP2', 'NCAM1', 'NF1', 'NTRK2', 'NUP98', 'PIK3CA', 'PRKCB', 'PTPRD', 'RB1', 'RBM10', 'RYR2', 'SETD2', 'SMAD4', 'SMARCA4', 'SORCS3', 'STK11', 'SVEP1', 'TP53']\n"
     ]
    }
   ],
   "source": [
    "# open list of driver genes file\n",
    "df5=pd.read_csv(\"../01_Gene_lists/SuppTable1_All_Drivers_GeneList.tsv\",sep='\\t',header=0)\n",
    "\n",
    "drivlist47 = df5['LUAD-Early_47'].dropna().unique().tolist()\n",
    "len(drivlist47) # = 47\n",
    "\n",
    "print(drivlist47)"
   ]
  },
  {
   "cell_type": "code",
   "execution_count": 10,
   "id": "8e8ebfe9",
   "metadata": {},
   "outputs": [
    {
     "data": {
      "text/html": [
       "<div>\n",
       "<style scoped>\n",
       "    .dataframe tbody tr th:only-of-type {\n",
       "        vertical-align: middle;\n",
       "    }\n",
       "\n",
       "    .dataframe tbody tr th {\n",
       "        vertical-align: top;\n",
       "    }\n",
       "\n",
       "    .dataframe thead th {\n",
       "        text-align: right;\n",
       "    }\n",
       "</style>\n",
       "<table border=\"1\" class=\"dataframe\">\n",
       "  <thead>\n",
       "    <tr style=\"text-align: right;\">\n",
       "      <th></th>\n",
       "      <th>sample_id</th>\n",
       "    </tr>\n",
       "    <tr>\n",
       "      <th>gene</th>\n",
       "      <th></th>\n",
       "    </tr>\n",
       "  </thead>\n",
       "  <tbody>\n",
       "    <tr>\n",
       "      <th>AFF2</th>\n",
       "      <td>TCGA-55-8302-01</td>\n",
       "    </tr>\n",
       "    <tr>\n",
       "      <th>...</th>\n",
       "      <td>...</td>\n",
       "    </tr>\n",
       "    <tr>\n",
       "      <th>TP53</th>\n",
       "      <td>TCGA-55-7570-01</td>\n",
       "    </tr>\n",
       "  </tbody>\n",
       "</table>\n",
       "<p>2379 rows × 1 columns</p>\n",
       "</div>"
      ],
      "text/plain": [
       "            sample_id\n",
       "gene                 \n",
       "AFF2  TCGA-55-8302-01\n",
       "...               ...\n",
       "TP53  TCGA-55-7570-01\n",
       "\n",
       "[2379 rows x 1 columns]"
      ]
     },
     "metadata": {},
     "output_type": "display_data"
    }
   ],
   "source": [
    "# Select rows where index is gene names of 47 drivers (kept in \"drivlist47\")\n",
    "df6 = df4.loc[drivlist47, [\"sample_id\"]]\n",
    "with pd.option_context('display.max_rows',2): display(df6) # 2379 rows (mutations) × 1 columns"
   ]
  },
  {
   "cell_type": "code",
   "execution_count": 12,
   "id": "bd373dd1",
   "metadata": {},
   "outputs": [
    {
     "data": {
      "text/plain": [
       "47"
      ]
     },
     "execution_count": 12,
     "metadata": {},
     "output_type": "execute_result"
    }
   ],
   "source": [
    "# Turn gene index back to column\n",
    "df7 = df6.reset_index(drop=False) # get column 'gene' back\n",
    "df7.head(2)\n",
    "len(df7.gene.unique().tolist()) # 47 genes"
   ]
  },
  {
   "cell_type": "code",
   "execution_count": 13,
   "id": "3933065e",
   "metadata": {},
   "outputs": [
    {
     "data": {
      "text/html": [
       "<div>\n",
       "<style scoped>\n",
       "    .dataframe tbody tr th:only-of-type {\n",
       "        vertical-align: middle;\n",
       "    }\n",
       "\n",
       "    .dataframe tbody tr th {\n",
       "        vertical-align: top;\n",
       "    }\n",
       "\n",
       "    .dataframe thead th {\n",
       "        text-align: right;\n",
       "    }\n",
       "</style>\n",
       "<table border=\"1\" class=\"dataframe\">\n",
       "  <thead>\n",
       "    <tr style=\"text-align: right;\">\n",
       "      <th>gene</th>\n",
       "      <th>AFF2</th>\n",
       "      <th>AMER1</th>\n",
       "      <th>ARID1A</th>\n",
       "      <th>ASXL3</th>\n",
       "      <th>ATM</th>\n",
       "      <th>BAZ2B</th>\n",
       "      <th>BRAF</th>\n",
       "      <th>CDH12</th>\n",
       "      <th>CDK12</th>\n",
       "      <th>CDKN2A</th>\n",
       "      <th>...</th>\n",
       "      <th>RB1</th>\n",
       "      <th>RBM10</th>\n",
       "      <th>RYR2</th>\n",
       "      <th>SETD2</th>\n",
       "      <th>SMAD4</th>\n",
       "      <th>SMARCA4</th>\n",
       "      <th>SORCS3</th>\n",
       "      <th>STK11</th>\n",
       "      <th>SVEP1</th>\n",
       "      <th>TP53</th>\n",
       "    </tr>\n",
       "    <tr>\n",
       "      <th>sample_id</th>\n",
       "      <th></th>\n",
       "      <th></th>\n",
       "      <th></th>\n",
       "      <th></th>\n",
       "      <th></th>\n",
       "      <th></th>\n",
       "      <th></th>\n",
       "      <th></th>\n",
       "      <th></th>\n",
       "      <th></th>\n",
       "      <th></th>\n",
       "      <th></th>\n",
       "      <th></th>\n",
       "      <th></th>\n",
       "      <th></th>\n",
       "      <th></th>\n",
       "      <th></th>\n",
       "      <th></th>\n",
       "      <th></th>\n",
       "      <th></th>\n",
       "      <th></th>\n",
       "    </tr>\n",
       "  </thead>\n",
       "  <tbody>\n",
       "    <tr>\n",
       "      <th>TCGA-05-4244-01</th>\n",
       "      <td>0.0</td>\n",
       "      <td>0.0</td>\n",
       "      <td>0.0</td>\n",
       "      <td>0.0</td>\n",
       "      <td>1.0</td>\n",
       "      <td>0.0</td>\n",
       "      <td>0.0</td>\n",
       "      <td>0.0</td>\n",
       "      <td>1.0</td>\n",
       "      <td>0.0</td>\n",
       "      <td>...</td>\n",
       "      <td>0.0</td>\n",
       "      <td>0.0</td>\n",
       "      <td>0.0</td>\n",
       "      <td>0.0</td>\n",
       "      <td>0.0</td>\n",
       "      <td>0.0</td>\n",
       "      <td>0.0</td>\n",
       "      <td>0.0</td>\n",
       "      <td>0.0</td>\n",
       "      <td>0.0</td>\n",
       "    </tr>\n",
       "    <tr>\n",
       "      <th>...</th>\n",
       "      <td>...</td>\n",
       "      <td>...</td>\n",
       "      <td>...</td>\n",
       "      <td>...</td>\n",
       "      <td>...</td>\n",
       "      <td>...</td>\n",
       "      <td>...</td>\n",
       "      <td>...</td>\n",
       "      <td>...</td>\n",
       "      <td>...</td>\n",
       "      <td>...</td>\n",
       "      <td>...</td>\n",
       "      <td>...</td>\n",
       "      <td>...</td>\n",
       "      <td>...</td>\n",
       "      <td>...</td>\n",
       "      <td>...</td>\n",
       "      <td>...</td>\n",
       "      <td>...</td>\n",
       "      <td>...</td>\n",
       "      <td>...</td>\n",
       "    </tr>\n",
       "    <tr>\n",
       "      <th>TCGA-O1-A52J-01</th>\n",
       "      <td>0.0</td>\n",
       "      <td>0.0</td>\n",
       "      <td>0.0</td>\n",
       "      <td>0.0</td>\n",
       "      <td>0.0</td>\n",
       "      <td>0.0</td>\n",
       "      <td>0.0</td>\n",
       "      <td>0.0</td>\n",
       "      <td>0.0</td>\n",
       "      <td>0.0</td>\n",
       "      <td>...</td>\n",
       "      <td>0.0</td>\n",
       "      <td>0.0</td>\n",
       "      <td>0.0</td>\n",
       "      <td>0.0</td>\n",
       "      <td>0.0</td>\n",
       "      <td>0.0</td>\n",
       "      <td>0.0</td>\n",
       "      <td>0.0</td>\n",
       "      <td>0.0</td>\n",
       "      <td>1.0</td>\n",
       "    </tr>\n",
       "  </tbody>\n",
       "</table>\n",
       "<p>477 rows × 47 columns</p>\n",
       "</div>"
      ],
      "text/plain": [
       "gene             AFF2  AMER1  ARID1A  ASXL3  ATM  BAZ2B  BRAF  CDH12  CDK12  \\\n",
       "sample_id                                                                     \n",
       "TCGA-05-4244-01   0.0    0.0     0.0    0.0  1.0    0.0   0.0    0.0    1.0   \n",
       "...               ...    ...     ...    ...  ...    ...   ...    ...    ...   \n",
       "TCGA-O1-A52J-01   0.0    0.0     0.0    0.0  0.0    0.0   0.0    0.0    0.0   \n",
       "\n",
       "gene             CDKN2A  ...  RB1  RBM10  RYR2  SETD2  SMAD4  SMARCA4  SORCS3  \\\n",
       "sample_id                ...                                                    \n",
       "TCGA-05-4244-01     0.0  ...  0.0    0.0   0.0    0.0    0.0      0.0     0.0   \n",
       "...                 ...  ...  ...    ...   ...    ...    ...      ...     ...   \n",
       "TCGA-O1-A52J-01     0.0  ...  0.0    0.0   0.0    0.0    0.0      0.0     0.0   \n",
       "\n",
       "gene             STK11  SVEP1  TP53  \n",
       "sample_id                            \n",
       "TCGA-05-4244-01    0.0    0.0   0.0  \n",
       "...                ...    ...   ...  \n",
       "TCGA-O1-A52J-01    0.0    0.0   1.0  \n",
       "\n",
       "[477 rows x 47 columns]"
      ]
     },
     "metadata": {},
     "output_type": "display_data"
    }
   ],
   "source": [
    "# Make pivot table using gene as columns: because will feed input to NBS as matrix file (list file get error)\n",
    "df7['COUNT'] = 1\n",
    "df8= df7.pivot_table('COUNT', index=('sample_id'),columns=\"gene\").fillna(0)\n",
    "df8 = pd.DataFrame(df8)\n",
    "\n",
    "with pd.option_context('display.max_rows',2): display(df8) # -->  505 reduced to 477 samples and 47 genes"
   ]
  },
  {
   "cell_type": "code",
   "execution_count": 14,
   "id": "c98b2b4f",
   "metadata": {},
   "outputs": [],
   "source": [
    "# Export pivot table as matrix file for input in NBS\n",
    "df8.to_csv('./output/6.6_OUT_cSIF_Driv47_477LUAD_toNBS_matrix_15Feb.tsv', sep=\"\\t\",index=True) "
   ]
  }
 ],
 "metadata": {
  "kernelspec": {
   "display_name": "Python 3",
   "language": "python",
   "name": "python3"
  },
  "language_info": {
   "codemirror_mode": {
    "name": "ipython",
    "version": 3
   },
   "file_extension": ".py",
   "mimetype": "text/x-python",
   "name": "python",
   "nbconvert_exporter": "python",
   "pygments_lexer": "ipython3",
   "version": "3.6.12"
  }
 },
 "nbformat": 4,
 "nbformat_minor": 5
}
