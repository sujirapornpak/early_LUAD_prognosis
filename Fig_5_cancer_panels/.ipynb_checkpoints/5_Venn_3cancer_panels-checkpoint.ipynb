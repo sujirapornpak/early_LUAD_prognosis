{
 "cells": [
  {
   "cell_type": "markdown",
   "id": "331f5f26-6b7a-4fca-b43d-d7e655e5d1fb",
   "metadata": {},
   "source": [
    "## Three cancer panels\n",
    "- **STEP1:** Prepare gene lists from 3 cancer panels\n",
    "1) PanCan-127 genes\n",
    "2) F1CDx-324 genes (Foundation One)\n",
    "3) TSACP-48 genes (TruSeq)\n",
    "- **STEP2:** Prepare 3 dataframe for NBS_Matrix with 3 cancer panels"
   ]
  },
  {
   "cell_type": "code",
   "execution_count": 1,
   "id": "9f3f1015-56c8-432c-aaa6-250b8be727b5",
   "metadata": {},
   "outputs": [],
   "source": [
    "##STEP 1.1: Import required python libraries (matplotlib, pandas, numpy).\n",
    "\n",
    "%matplotlib inline\n",
    "import pandas as pd\n",
    "import numpy as np\n",
    "import matplotlib.pyplot as plt\n",
    "import seaborn as sns"
   ]
  },
  {
   "cell_type": "markdown",
   "id": "a74ca14b-f8aa-4960-9455-f623255c1f5a",
   "metadata": {},
   "source": [
    "## STEP 1: Prepare gene lists from 3 cancer gene panels for Venn with 198, 47 LUAD Drivers"
   ]
  },
  {
   "cell_type": "markdown",
   "id": "a04632bb-8a75-4aab-a4ca-5cff0923307d",
   "metadata": {},
   "source": [
    "#### STEP1.1: Open gene list file"
   ]
  },
  {
   "cell_type": "code",
   "execution_count": 17,
   "id": "3844008f-09f1-473a-8e79-07b6115b1051",
   "metadata": {},
   "outputs": [
    {
     "data": {
      "text/html": [
       "<div>\n",
       "<style scoped>\n",
       "    .dataframe tbody tr th:only-of-type {\n",
       "        vertical-align: middle;\n",
       "    }\n",
       "\n",
       "    .dataframe tbody tr th {\n",
       "        vertical-align: top;\n",
       "    }\n",
       "\n",
       "    .dataframe thead th {\n",
       "        text-align: right;\n",
       "    }\n",
       "</style>\n",
       "<table border=\"1\" class=\"dataframe\">\n",
       "  <thead>\n",
       "    <tr style=\"text-align: right;\">\n",
       "      <th></th>\n",
       "      <th>Rubio-Perez(2015)_181</th>\n",
       "      <th>Bailey(2018)_20</th>\n",
       "      <th>Bailey(2020)_34</th>\n",
       "      <th>PooledLUADdrivers_198</th>\n",
       "      <th>LUAD-Early_47</th>\n",
       "      <th>Remaining_151Drivers</th>\n",
       "      <th>F1CDx_324(Milbury2022)</th>\n",
       "      <th>Trueseq_48(Illumina)</th>\n",
       "      <th>Pancan_127(Kandoth2013)</th>\n",
       "      <th>FoundationOne_to299</th>\n",
       "      <th>Truseq_to47</th>\n",
       "      <th>PanCan_to121</th>\n",
       "    </tr>\n",
       "  </thead>\n",
       "  <tbody>\n",
       "    <tr>\n",
       "      <th>0</th>\n",
       "      <td>ACAD8</td>\n",
       "      <td>ARID1A</td>\n",
       "      <td>AFF2</td>\n",
       "      <td>ACAD8</td>\n",
       "      <td>AFF2</td>\n",
       "      <td>ACAD8</td>\n",
       "      <td>ABL1</td>\n",
       "      <td>ABL1</td>\n",
       "      <td>ACVR1B</td>\n",
       "      <td>ABL1</td>\n",
       "      <td>ABL1</td>\n",
       "      <td>ACVR1B</td>\n",
       "    </tr>\n",
       "    <tr>\n",
       "      <th>...</th>\n",
       "      <td>...</td>\n",
       "      <td>...</td>\n",
       "      <td>...</td>\n",
       "      <td>...</td>\n",
       "      <td>...</td>\n",
       "      <td>...</td>\n",
       "      <td>...</td>\n",
       "      <td>...</td>\n",
       "      <td>...</td>\n",
       "      <td>...</td>\n",
       "      <td>...</td>\n",
       "      <td>...</td>\n",
       "    </tr>\n",
       "    <tr>\n",
       "      <th>323</th>\n",
       "      <td>NaN</td>\n",
       "      <td>NaN</td>\n",
       "      <td>NaN</td>\n",
       "      <td>NaN</td>\n",
       "      <td>NaN</td>\n",
       "      <td>NaN</td>\n",
       "      <td>ZNF703</td>\n",
       "      <td>NaN</td>\n",
       "      <td>NaN</td>\n",
       "      <td>NaN</td>\n",
       "      <td>NaN</td>\n",
       "      <td>NaN</td>\n",
       "    </tr>\n",
       "  </tbody>\n",
       "</table>\n",
       "<p>324 rows × 12 columns</p>\n",
       "</div>"
      ],
      "text/plain": [
       "    Rubio-Perez(2015)_181 Bailey(2018)_20 Bailey(2020)_34  \\\n",
       "0                   ACAD8          ARID1A            AFF2   \n",
       "..                    ...             ...             ...   \n",
       "323                   NaN             NaN             NaN   \n",
       "\n",
       "    PooledLUADdrivers_198 LUAD-Early_47 Remaining_151Drivers  \\\n",
       "0                   ACAD8          AFF2                ACAD8   \n",
       "..                    ...           ...                  ...   \n",
       "323                   NaN           NaN                  NaN   \n",
       "\n",
       "    F1CDx_324(Milbury2022) Trueseq_48(Illumina) Pancan_127(Kandoth2013)  \\\n",
       "0                     ABL1                 ABL1                  ACVR1B   \n",
       "..                     ...                  ...                     ...   \n",
       "323                 ZNF703                  NaN                     NaN   \n",
       "\n",
       "    FoundationOne_to299 Truseq_to47 PanCan_to121  \n",
       "0                  ABL1        ABL1       ACVR1B  \n",
       "..                  ...         ...          ...  \n",
       "323                 NaN         NaN          NaN  \n",
       "\n",
       "[324 rows x 12 columns]"
      ]
     },
     "metadata": {},
     "output_type": "display_data"
    }
   ],
   "source": [
    "df1 = pd.read_csv('../01_Gene_lists/SuppTable1_All_Drivers_GeneList.tsv', sep=\"\\t\",header=0)\n",
    "with pd.option_context('display.max_rows',2): display(df1)"
   ]
  },
  {
   "cell_type": "markdown",
   "id": "cd992f94-af47-42c6-97ec-5ebc4d0231fb",
   "metadata": {},
   "source": [
    "1) PanCan-127 genes\n",
    "2) F1CDx-324 genes (Foundation One)\n",
    "3) TSACP-48 genes (TruSeq)"
   ]
  },
  {
   "cell_type": "code",
   "execution_count": 18,
   "id": "cfd90cce-3a51-46e4-8be0-a0db3d4ea66b",
   "metadata": {},
   "outputs": [
    {
     "data": {
      "text/html": [
       "<div>\n",
       "<style scoped>\n",
       "    .dataframe tbody tr th:only-of-type {\n",
       "        vertical-align: middle;\n",
       "    }\n",
       "\n",
       "    .dataframe tbody tr th {\n",
       "        vertical-align: top;\n",
       "    }\n",
       "\n",
       "    .dataframe thead th {\n",
       "        text-align: right;\n",
       "    }\n",
       "</style>\n",
       "<table border=\"1\" class=\"dataframe\">\n",
       "  <thead>\n",
       "    <tr style=\"text-align: right;\">\n",
       "      <th></th>\n",
       "      <th>PooledLUADdrivers_198</th>\n",
       "      <th>LUAD-Early_47</th>\n",
       "      <th>F1CDx_324(Milbury2022)</th>\n",
       "      <th>Trueseq_48(Illumina)</th>\n",
       "      <th>Pancan_127(Kandoth2013)</th>\n",
       "    </tr>\n",
       "  </thead>\n",
       "  <tbody>\n",
       "    <tr>\n",
       "      <th>0</th>\n",
       "      <td>ACAD8</td>\n",
       "      <td>AFF2</td>\n",
       "      <td>ABL1</td>\n",
       "      <td>ABL1</td>\n",
       "      <td>ACVR1B</td>\n",
       "    </tr>\n",
       "    <tr>\n",
       "      <th>1</th>\n",
       "      <td>ACO1</td>\n",
       "      <td>AMER1</td>\n",
       "      <td>ACVR1B</td>\n",
       "      <td>AKT1</td>\n",
       "      <td>ACVR2A</td>\n",
       "    </tr>\n",
       "    <tr>\n",
       "      <th>2</th>\n",
       "      <td>ACTG1</td>\n",
       "      <td>ARID1A</td>\n",
       "      <td>AKT1</td>\n",
       "      <td>ALK</td>\n",
       "      <td>AJUBA</td>\n",
       "    </tr>\n",
       "  </tbody>\n",
       "</table>\n",
       "</div>"
      ],
      "text/plain": [
       "  PooledLUADdrivers_198 LUAD-Early_47 F1CDx_324(Milbury2022)  \\\n",
       "0                 ACAD8          AFF2                   ABL1   \n",
       "1                  ACO1         AMER1                 ACVR1B   \n",
       "2                 ACTG1        ARID1A                   AKT1   \n",
       "\n",
       "  Trueseq_48(Illumina) Pancan_127(Kandoth2013)  \n",
       "0                 ABL1                  ACVR1B  \n",
       "1                 AKT1                  ACVR2A  \n",
       "2                  ALK                   AJUBA  "
      ]
     },
     "execution_count": 18,
     "metadata": {},
     "output_type": "execute_result"
    }
   ],
   "source": [
    "df1.iloc[0:3,[3,4,6,7,8]] "
   ]
  },
  {
   "cell_type": "code",
   "execution_count": 19,
   "id": "87a28b4d-d3ea-4eef-9dfb-c09bd89fde4b",
   "metadata": {},
   "outputs": [],
   "source": [
    "driv1_LUAD198 =df1['PooledLUADdrivers_198'].dropna().unique().tolist() # len()=198\n",
    "driv2_fin47 =df1['LUAD-Early_47'].dropna().unique().tolist() # len()=47\n",
    "driv3_F1CDx324 =df1['F1CDx_324(Milbury2022)'].dropna().unique().tolist() # len()=324\n",
    "driv4_Truseq48 =df1['Trueseq_48(Illumina)'].dropna().unique().tolist() # len()=48\n",
    "driv5_Pancan127 =df1['Pancan_127(Kandoth2013)'].dropna().unique().tolist() # len()=127"
   ]
  },
  {
   "cell_type": "markdown",
   "id": "7bb86804-076f-49db-a4e0-73804dabeb2f",
   "metadata": {},
   "source": [
    "#### STEP1.2: Venn diagram"
   ]
  },
  {
   "cell_type": "code",
   "execution_count": 20,
   "id": "1ec1a62d-559d-4010-a3f0-2f688b1ea059",
   "metadata": {},
   "outputs": [],
   "source": [
    "from collections import Counter\n",
    "from matplotlib_venn import venn2, venn3, venn3_circles,venn2_circles   #import matplotlib_venn as venn \n",
    "import matplotlib.pyplot as plt"
   ]
  },
  {
   "cell_type": "code",
   "execution_count": 21,
   "id": "014f169d-3579-4545-aee9-f49ffc9f8e6c",
   "metadata": {},
   "outputs": [
    {
     "name": "stdout",
     "output_type": "stream",
     "text": [
      "198 47 324 48 127\n"
     ]
    }
   ],
   "source": [
    "\n",
    "A1 = set(driv1_LUAD198)\n",
    "A2 = set(driv2_fin47)\n",
    "B1 = set(driv3_F1CDx324) \n",
    "B2 = set(driv4_Truseq48) \n",
    "B3 = set(driv5_Pancan127) \n",
    "\n",
    "print(len(A1),len(A2),len(B1),len(B2),len(B3)) # 198 47 324 48 127"
   ]
  },
  {
   "cell_type": "code",
   "execution_count": 22,
   "id": "f45d9818-5046-42d2-ad1c-5a212872387c",
   "metadata": {},
   "outputs": [
    {
     "data": {
      "text/plain": [
       "47"
      ]
     },
     "execution_count": 22,
     "metadata": {},
     "output_type": "execute_result"
    }
   ],
   "source": [
    "A1A2_overlap = A1 & A2\n",
    "len(A1A2_overlap)\n",
    "\n",
    "#A2_rest = A2 - A1A2_overlap\n",
    "#A2_rest"
   ]
  },
  {
   "cell_type": "code",
   "execution_count": 23,
   "id": "e2bfe0fe-fd1e-4c7d-9d2f-cf3f5862b31e",
   "metadata": {},
   "outputs": [
    {
     "ename": "AttributeError",
     "evalue": "'NoneType' object has no attribute 'set_fontsize'",
     "output_type": "error",
     "traceback": [
      "\u001b[0;31m---------------------------------------------------------------------------\u001b[0m",
      "\u001b[0;31mAttributeError\u001b[0m                            Traceback (most recent call last)",
      "\u001b[0;32m<ipython-input-23-a1c90d4298e6>\u001b[0m in \u001b[0;36m<module>\u001b[0;34m\u001b[0m\n\u001b[1;32m      8\u001b[0m     \u001b[0mtext\u001b[0m\u001b[0;34m.\u001b[0m\u001b[0mset_fontsize\u001b[0m\u001b[0;34m(\u001b[0m\u001b[0;36m15\u001b[0m\u001b[0;34m)\u001b[0m\u001b[0;34m;\u001b[0m\u001b[0;34m\u001b[0m\u001b[0;34m\u001b[0m\u001b[0m\n\u001b[1;32m      9\u001b[0m \u001b[0;32mfor\u001b[0m \u001b[0mtext\u001b[0m \u001b[0;32min\u001b[0m \u001b[0mvd3\u001b[0m\u001b[0;34m.\u001b[0m\u001b[0msubset_labels\u001b[0m\u001b[0;34m:\u001b[0m\u001b[0;34m\u001b[0m\u001b[0;34m\u001b[0m\u001b[0m\n\u001b[0;32m---> 10\u001b[0;31m     \u001b[0mtext\u001b[0m\u001b[0;34m.\u001b[0m\u001b[0mset_fontsize\u001b[0m\u001b[0;34m(\u001b[0m\u001b[0;36m14\u001b[0m\u001b[0;34m)\u001b[0m\u001b[0;34m\u001b[0m\u001b[0;34m\u001b[0m\u001b[0m\n\u001b[0m\u001b[1;32m     11\u001b[0m plt.title('Venn Diagram for 3 feature selection methods',fontname='Times New Roman',fontweight='bold',fontsize=20,\n\u001b[1;32m     12\u001b[0m  pad=30,backgroundcolor='#cbe7e3',color='black',style='italic');\n",
      "\u001b[0;31mAttributeError\u001b[0m: 'NoneType' object has no attribute 'set_fontsize'"
     ]
    },
    {
     "data": {
      "image/png": "[encoded data removed]",
      "text/plain": [
       "<Figure size 432x288 with 1 Axes>"
      ]
     },
     "metadata": {},
     "output_type": "display_data"
    }
   ],
   "source": [
    "# Ref:https://towardsdatascience.com/how-to-create-and-beautify-venn-diagrams-in-python-331129bd4ed3\n",
    "\n",
    "vd3=venn3([A1,A2,B1],\n",
    "          set_labels=('LUAD-drivers\\nN=198', 'LUAD-early\\nN=47','FoundationOne\\nN=324'),\n",
    "          set_colors=('#c4e6ff', '#F4ACB7','#9D8189'), alpha = 0.8)\n",
    "venn3_circles([set(A1),set(A2),set(B1)], linestyle='-', linewidth=1, color='grey') # linestyle='-.'\n",
    "for text in vd3.set_labels:\n",
    "    text.set_fontsize(15);\n",
    "for text in vd3.subset_labels:\n",
    "    text.set_fontsize(14)\n",
    "plt.title('Venn Diagram for 3 feature selection methods',fontname='Times New Roman',fontweight='bold',fontsize=20,\n",
    " pad=30,backgroundcolor='#cbe7e3',color='black',style='italic');\n",
    "plt.show()"
   ]
  },
  {
   "cell_type": "code",
   "execution_count": 24,
   "id": "4e617905-56eb-426b-b50b-9334782a76bb",
   "metadata": {},
   "outputs": [
    {
     "ename": "AttributeError",
     "evalue": "'NoneType' object has no attribute 'set_fontsize'",
     "output_type": "error",
     "traceback": [
      "\u001b[0;31m---------------------------------------------------------------------------\u001b[0m",
      "\u001b[0;31mAttributeError\u001b[0m                            Traceback (most recent call last)",
      "\u001b[0;32m<ipython-input-24-f250979ac2b3>\u001b[0m in \u001b[0;36m<module>\u001b[0;34m\u001b[0m\n\u001b[1;32m      6\u001b[0m     \u001b[0mtext\u001b[0m\u001b[0;34m.\u001b[0m\u001b[0mset_fontsize\u001b[0m\u001b[0;34m(\u001b[0m\u001b[0;36m15\u001b[0m\u001b[0;34m)\u001b[0m\u001b[0;34m;\u001b[0m\u001b[0;34m\u001b[0m\u001b[0;34m\u001b[0m\u001b[0m\n\u001b[1;32m      7\u001b[0m \u001b[0;32mfor\u001b[0m \u001b[0mtext\u001b[0m \u001b[0;32min\u001b[0m \u001b[0mvd3\u001b[0m\u001b[0;34m.\u001b[0m\u001b[0msubset_labels\u001b[0m\u001b[0;34m:\u001b[0m\u001b[0;34m\u001b[0m\u001b[0;34m\u001b[0m\u001b[0m\n\u001b[0;32m----> 8\u001b[0;31m     \u001b[0mtext\u001b[0m\u001b[0;34m.\u001b[0m\u001b[0mset_fontsize\u001b[0m\u001b[0;34m(\u001b[0m\u001b[0;36m14\u001b[0m\u001b[0;34m)\u001b[0m\u001b[0;34m\u001b[0m\u001b[0;34m\u001b[0m\u001b[0m\n\u001b[0m\u001b[1;32m      9\u001b[0m plt.title('Venn Diagram for 3 feature selection methods',fontname='Times New Roman',fontweight='bold',fontsize=20,\n\u001b[1;32m     10\u001b[0m  pad=30,backgroundcolor='#cbe7e3',color='black',style='italic');\n",
      "\u001b[0;31mAttributeError\u001b[0m: 'NoneType' object has no attribute 'set_fontsize'"
     ]
    },
    {
     "data": {
      "image/png": "[encoded data removed]",
      "text/plain": [
       "<Figure size 432x288 with 1 Axes>"
      ]
     },
     "metadata": {},
     "output_type": "display_data"
    }
   ],
   "source": [
    "vd3=venn3([A1,A2,B2],\n",
    "          set_labels=('LUAD-drivers\\nN=198', 'LUAD-early\\nN=47','Truseq\\nN=48'),\n",
    "          set_colors=('#c4e6ff', '#F4ACB7','#9D8189'), alpha = 0.8)\n",
    "venn3_circles([set(A1),set(A2),set(B2)], linestyle='-', linewidth=1, color='grey') # linestyle='-.'\n",
    "for text in vd3.set_labels:\n",
    "    text.set_fontsize(15);\n",
    "for text in vd3.subset_labels:\n",
    "    text.set_fontsize(14)\n",
    "plt.title('Venn Diagram for 3 feature selection methods',fontname='Times New Roman',fontweight='bold',fontsize=20,\n",
    " pad=30,backgroundcolor='#cbe7e3',color='black',style='italic');\n",
    "plt.show()"
   ]
  },
  {
   "cell_type": "code",
   "execution_count": 25,
   "id": "ae92ca59-5bfd-480b-bb9b-f4b5b84ed65c",
   "metadata": {},
   "outputs": [
    {
     "ename": "AttributeError",
     "evalue": "'NoneType' object has no attribute 'set_fontsize'",
     "output_type": "error",
     "traceback": [
      "\u001b[0;31m---------------------------------------------------------------------------\u001b[0m",
      "\u001b[0;31mAttributeError\u001b[0m                            Traceback (most recent call last)",
      "\u001b[0;32m<ipython-input-25-b81da6263a9a>\u001b[0m in \u001b[0;36m<module>\u001b[0;34m\u001b[0m\n\u001b[1;32m      6\u001b[0m     \u001b[0mtext\u001b[0m\u001b[0;34m.\u001b[0m\u001b[0mset_fontsize\u001b[0m\u001b[0;34m(\u001b[0m\u001b[0;36m15\u001b[0m\u001b[0;34m)\u001b[0m\u001b[0;34m;\u001b[0m\u001b[0;34m\u001b[0m\u001b[0;34m\u001b[0m\u001b[0m\n\u001b[1;32m      7\u001b[0m \u001b[0;32mfor\u001b[0m \u001b[0mtext\u001b[0m \u001b[0;32min\u001b[0m \u001b[0mvd3\u001b[0m\u001b[0;34m.\u001b[0m\u001b[0msubset_labels\u001b[0m\u001b[0;34m:\u001b[0m\u001b[0;34m\u001b[0m\u001b[0;34m\u001b[0m\u001b[0m\n\u001b[0;32m----> 8\u001b[0;31m     \u001b[0mtext\u001b[0m\u001b[0;34m.\u001b[0m\u001b[0mset_fontsize\u001b[0m\u001b[0;34m(\u001b[0m\u001b[0;36m14\u001b[0m\u001b[0;34m)\u001b[0m\u001b[0;34m\u001b[0m\u001b[0;34m\u001b[0m\u001b[0m\n\u001b[0m\u001b[1;32m      9\u001b[0m plt.title('Venn Diagram for 3 feature selection methods',fontname='Times New Roman',fontweight='bold',fontsize=20,\n\u001b[1;32m     10\u001b[0m  pad=30,backgroundcolor='#cbe7e3',color='black',style='italic');\n",
      "\u001b[0;31mAttributeError\u001b[0m: 'NoneType' object has no attribute 'set_fontsize'"
     ]
    },
    {
     "data": {
      "image/png": "[encoded data removed]",
      "text/plain": [
       "<Figure size 432x288 with 1 Axes>"
      ]
     },
     "metadata": {},
     "output_type": "display_data"
    }
   ],
   "source": [
    "vd3=venn3([A1,A2,B3],\n",
    "          set_labels=('LUAD-drivers\\nN=198', 'LUAD-early\\nN=47','PanCan\\nN=127'),\n",
    "          set_colors=('#c4e6ff', '#F4ACB7','#9D8189'), alpha = 0.8)\n",
    "venn3_circles([set(A1),set(A2),set(B3)], linestyle='-', linewidth=1, color='grey') # linestyle='-.'\n",
    "for text in vd3.set_labels:\n",
    "    text.set_fontsize(15);\n",
    "for text in vd3.subset_labels:\n",
    "    text.set_fontsize(14)\n",
    "plt.title('Venn Diagram for 3 feature selection methods',fontname='Times New Roman',fontweight='bold',fontsize=20,\n",
    " pad=30,backgroundcolor='#cbe7e3',color='black',style='italic');\n",
    "plt.show()"
   ]
  },
  {
   "cell_type": "code",
   "execution_count": null,
   "id": "f0ad00ea-4e3a-4fb4-a2ad-86118e5645ea",
   "metadata": {},
   "outputs": [],
   "source": []
  },
  {
   "cell_type": "markdown",
   "id": "158aaf86-544d-4e82-9bca-678068f0a68d",
   "metadata": {},
   "source": [
    "## STEP2: Prepare 3 dataframe for NBS_Matrix with 3 cancer panels"
   ]
  },
  {
   "cell_type": "markdown",
   "id": "357419a0-25f8-4baf-b9ea-b218176d8c68",
   "metadata": {},
   "source": [
    "#### STEP2.1: Open original CSIF_cleaned table"
   ]
  },
  {
   "cell_type": "code",
   "execution_count": 27,
   "id": "f7357947-eec8-4f17-a7de-772e3d37d97a",
   "metadata": {},
   "outputs": [
    {
     "data": {
      "text/html": [
       "<div>\n",
       "<style scoped>\n",
       "    .dataframe tbody tr th:only-of-type {\n",
       "        vertical-align: middle;\n",
       "    }\n",
       "\n",
       "    .dataframe tbody tr th {\n",
       "        vertical-align: top;\n",
       "    }\n",
       "\n",
       "    .dataframe thead th {\n",
       "        text-align: right;\n",
       "    }\n",
       "</style>\n",
       "<table border=\"1\" class=\"dataframe\">\n",
       "  <thead>\n",
       "    <tr style=\"text-align: right;\">\n",
       "      <th></th>\n",
       "      <th>Rubio-Perez(2015)_181</th>\n",
       "      <th>Bailey(2018)_20</th>\n",
       "      <th>Bailey(2020)_34</th>\n",
       "      <th>PooledLUADdrivers_198</th>\n",
       "      <th>LUAD-Early_47</th>\n",
       "      <th>Remaining_151Drivers</th>\n",
       "      <th>F1CDx_324(Milbury2022)</th>\n",
       "      <th>Trueseq_48(Illumina)</th>\n",
       "      <th>Pancan_127(Kandoth2013)</th>\n",
       "      <th>FoundationOne_to299</th>\n",
       "      <th>Truseq_to47</th>\n",
       "      <th>PanCan_to121</th>\n",
       "    </tr>\n",
       "  </thead>\n",
       "  <tbody>\n",
       "    <tr>\n",
       "      <th>0</th>\n",
       "      <td>ACAD8</td>\n",
       "      <td>ARID1A</td>\n",
       "      <td>AFF2</td>\n",
       "      <td>ACAD8</td>\n",
       "      <td>AFF2</td>\n",
       "      <td>ACAD8</td>\n",
       "      <td>ABL1</td>\n",
       "      <td>ABL1</td>\n",
       "      <td>ACVR1B</td>\n",
       "      <td>ABL1</td>\n",
       "      <td>ABL1</td>\n",
       "      <td>ACVR1B</td>\n",
       "    </tr>\n",
       "    <tr>\n",
       "      <th>...</th>\n",
       "      <td>...</td>\n",
       "      <td>...</td>\n",
       "      <td>...</td>\n",
       "      <td>...</td>\n",
       "      <td>...</td>\n",
       "      <td>...</td>\n",
       "      <td>...</td>\n",
       "      <td>...</td>\n",
       "      <td>...</td>\n",
       "      <td>...</td>\n",
       "      <td>...</td>\n",
       "      <td>...</td>\n",
       "    </tr>\n",
       "    <tr>\n",
       "      <th>323</th>\n",
       "      <td>NaN</td>\n",
       "      <td>NaN</td>\n",
       "      <td>NaN</td>\n",
       "      <td>NaN</td>\n",
       "      <td>NaN</td>\n",
       "      <td>NaN</td>\n",
       "      <td>ZNF703</td>\n",
       "      <td>NaN</td>\n",
       "      <td>NaN</td>\n",
       "      <td>NaN</td>\n",
       "      <td>NaN</td>\n",
       "      <td>NaN</td>\n",
       "    </tr>\n",
       "  </tbody>\n",
       "</table>\n",
       "<p>324 rows × 12 columns</p>\n",
       "</div>"
      ],
      "text/plain": [
       "    Rubio-Perez(2015)_181 Bailey(2018)_20 Bailey(2020)_34  \\\n",
       "0                   ACAD8          ARID1A            AFF2   \n",
       "..                    ...             ...             ...   \n",
       "323                   NaN             NaN             NaN   \n",
       "\n",
       "    PooledLUADdrivers_198 LUAD-Early_47 Remaining_151Drivers  \\\n",
       "0                   ACAD8          AFF2                ACAD8   \n",
       "..                    ...           ...                  ...   \n",
       "323                   NaN           NaN                  NaN   \n",
       "\n",
       "    F1CDx_324(Milbury2022) Trueseq_48(Illumina) Pancan_127(Kandoth2013)  \\\n",
       "0                     ABL1                 ABL1                  ACVR1B   \n",
       "..                     ...                  ...                     ...   \n",
       "323                 ZNF703                  NaN                     NaN   \n",
       "\n",
       "    FoundationOne_to299 Truseq_to47 PanCan_to121  \n",
       "0                  ABL1        ABL1       ACVR1B  \n",
       "..                  ...         ...          ...  \n",
       "323                 NaN         NaN          NaN  \n",
       "\n",
       "[324 rows x 12 columns]"
      ]
     },
     "metadata": {},
     "output_type": "display_data"
    }
   ],
   "source": [
    "# Open Gene list file:\n",
    "df21 = pd.read_csv('../01_Gene_lists/SuppTable1_All_Drivers_GeneList.tsv',sep='\\t',header=0)\n",
    "with pd.option_context('display.max_rows',2): display(df21)"
   ]
  },
  {
   "cell_type": "code",
   "execution_count": 28,
   "id": "19db7db7-0b48-4a00-9a28-fe31f125b003",
   "metadata": {},
   "outputs": [
    {
     "data": {
      "text/plain": [
       "324"
      ]
     },
     "metadata": {},
     "output_type": "display_data"
    },
    {
     "data": {
      "text/plain": [
       "48"
      ]
     },
     "metadata": {},
     "output_type": "display_data"
    },
    {
     "data": {
      "text/plain": [
       "127"
      ]
     },
     "metadata": {},
     "output_type": "display_data"
    }
   ],
   "source": [
    "drivlist324 = df21['F1CDx_324(Milbury2022)'].dropna().unique().tolist()\n",
    "drivlist48 = df21['Trueseq_48(Illumina)'].dropna().unique().tolist()\n",
    "drivlist127 = df21['Pancan_127(Kandoth2013)'].dropna().unique().tolist()\n",
    "\n",
    "display(len(drivlist324),len(drivlist48),len(drivlist127))"
   ]
  },
  {
   "cell_type": "code",
   "execution_count": 31,
   "id": "935bedec-005d-4705-bbab-5adb9000138b",
   "metadata": {},
   "outputs": [
    {
     "data": {
      "text/html": [
       "<div>\n",
       "<style scoped>\n",
       "    .dataframe tbody tr th:only-of-type {\n",
       "        vertical-align: middle;\n",
       "    }\n",
       "\n",
       "    .dataframe tbody tr th {\n",
       "        vertical-align: top;\n",
       "    }\n",
       "\n",
       "    .dataframe thead th {\n",
       "        text-align: right;\n",
       "    }\n",
       "</style>\n",
       "<table border=\"1\" class=\"dataframe\">\n",
       "  <thead>\n",
       "    <tr style=\"text-align: right;\">\n",
       "      <th></th>\n",
       "      <th>sample_id</th>\n",
       "      <th>chr</th>\n",
       "      <th>start</th>\n",
       "      <th>end</th>\n",
       "      <th>reference</th>\n",
       "      <th>alt</th>\n",
       "      <th>gene</th>\n",
       "      <th>effect</th>\n",
       "      <th>Amino_Acid_Change</th>\n",
       "      <th>DNA_VAF</th>\n",
       "      <th>SIFT</th>\n",
       "      <th>PolyPhen</th>\n",
       "      <th>tumor_stage</th>\n",
       "      <th>SIFT2</th>\n",
       "      <th>PolyPhen2</th>\n",
       "    </tr>\n",
       "  </thead>\n",
       "  <tbody>\n",
       "    <tr>\n",
       "      <th>0</th>\n",
       "      <td>TCGA-05-4244-01</td>\n",
       "      <td>10</td>\n",
       "      <td>101814119</td>\n",
       "      <td>101814119</td>\n",
       "      <td>G</td>\n",
       "      <td>C</td>\n",
       "      <td>CPN1</td>\n",
       "      <td>Missense_Mutation</td>\n",
       "      <td>p.H366D</td>\n",
       "      <td>0.21</td>\n",
       "      <td>deleterious(0)</td>\n",
       "      <td>probably_damaging(1)</td>\n",
       "      <td>Stage IV</td>\n",
       "      <td>deleterious</td>\n",
       "      <td>probably_damaging</td>\n",
       "    </tr>\n",
       "    <tr>\n",
       "      <th>...</th>\n",
       "      <td>...</td>\n",
       "      <td>...</td>\n",
       "      <td>...</td>\n",
       "      <td>...</td>\n",
       "      <td>...</td>\n",
       "      <td>...</td>\n",
       "      <td>...</td>\n",
       "      <td>...</td>\n",
       "      <td>...</td>\n",
       "      <td>...</td>\n",
       "      <td>...</td>\n",
       "      <td>...</td>\n",
       "      <td>...</td>\n",
       "      <td>...</td>\n",
       "      <td>...</td>\n",
       "    </tr>\n",
       "    <tr>\n",
       "      <th>101756</th>\n",
       "      <td>TCGA-S2-AA1A-01</td>\n",
       "      <td>17</td>\n",
       "      <td>72588850</td>\n",
       "      <td>72588850</td>\n",
       "      <td>C</td>\n",
       "      <td>T</td>\n",
       "      <td>C17orf77</td>\n",
       "      <td>Missense_Mutation</td>\n",
       "      <td>p.A222V</td>\n",
       "      <td>0.18</td>\n",
       "      <td>deleterious_low_confidence(0)</td>\n",
       "      <td>possibly_damaging(0.682)</td>\n",
       "      <td>Stage IA</td>\n",
       "      <td>deleterious_low_confidence</td>\n",
       "      <td>possibly_damaging</td>\n",
       "    </tr>\n",
       "  </tbody>\n",
       "</table>\n",
       "<p>101757 rows × 15 columns</p>\n",
       "</div>"
      ],
      "text/plain": [
       "              sample_id chr      start        end reference alt      gene  \\\n",
       "0       TCGA-05-4244-01  10  101814119  101814119         G   C      CPN1   \n",
       "...                 ...  ..        ...        ...       ...  ..       ...   \n",
       "101756  TCGA-S2-AA1A-01  17   72588850   72588850         C   T  C17orf77   \n",
       "\n",
       "                   effect Amino_Acid_Change  DNA_VAF  \\\n",
       "0       Missense_Mutation           p.H366D     0.21   \n",
       "...                   ...               ...      ...   \n",
       "101756  Missense_Mutation           p.A222V     0.18   \n",
       "\n",
       "                                 SIFT                  PolyPhen tumor_stage  \\\n",
       "0                      deleterious(0)      probably_damaging(1)    Stage IV   \n",
       "...                               ...                       ...         ...   \n",
       "101756  deleterious_low_confidence(0)  possibly_damaging(0.682)    Stage IA   \n",
       "\n",
       "                             SIFT2          PolyPhen2  \n",
       "0                      deleterious  probably_damaging  \n",
       "...                            ...                ...  \n",
       "101756  deleterious_low_confidence  possibly_damaging  \n",
       "\n",
       "[101757 rows x 15 columns]"
      ]
     },
     "metadata": {},
     "output_type": "display_data"
    }
   ],
   "source": [
    "# Open cleaned SNV file:\n",
    "df22 = pd.read_csv(\"../Fig_1_LUAD_driver_genes/output/6.2_LUAD_snv_mc3_OUT_cleaned_cSIF.tsv\",sep='\\t',header=0)\n",
    "df23 = df22.copy()\n",
    "\n",
    "with pd.option_context('display.max_rows',2): display(df23) # 101757 rows × 15 columns"
   ]
  },
  {
   "cell_type": "code",
   "execution_count": 32,
   "id": "30bbb78d-49cf-49a0-bc9e-250a8470963d",
   "metadata": {},
   "outputs": [
    {
     "data": {
      "text/html": [
       "<div>\n",
       "<style scoped>\n",
       "    .dataframe tbody tr th:only-of-type {\n",
       "        vertical-align: middle;\n",
       "    }\n",
       "\n",
       "    .dataframe tbody tr th {\n",
       "        vertical-align: top;\n",
       "    }\n",
       "\n",
       "    .dataframe thead th {\n",
       "        text-align: right;\n",
       "    }\n",
       "</style>\n",
       "<table border=\"1\" class=\"dataframe\">\n",
       "  <thead>\n",
       "    <tr style=\"text-align: right;\">\n",
       "      <th></th>\n",
       "      <th>gene</th>\n",
       "    </tr>\n",
       "    <tr>\n",
       "      <th>sample_id</th>\n",
       "      <th></th>\n",
       "    </tr>\n",
       "  </thead>\n",
       "  <tbody>\n",
       "    <tr>\n",
       "      <th>TCGA-05-4244-01</th>\n",
       "      <td>CPN1</td>\n",
       "    </tr>\n",
       "    <tr>\n",
       "      <th>...</th>\n",
       "      <td>...</td>\n",
       "    </tr>\n",
       "    <tr>\n",
       "      <th>TCGA-S2-AA1A-01</th>\n",
       "      <td>C17orf77</td>\n",
       "    </tr>\n",
       "  </tbody>\n",
       "</table>\n",
       "<p>101757 rows × 1 columns</p>\n",
       "</div>"
      ],
      "text/plain": [
       "                     gene\n",
       "sample_id                \n",
       "TCGA-05-4244-01      CPN1\n",
       "...                   ...\n",
       "TCGA-S2-AA1A-01  C17orf77\n",
       "\n",
       "[101757 rows x 1 columns]"
      ]
     },
     "metadata": {},
     "output_type": "display_data"
    }
   ],
   "source": [
    "# Drop unused multiple (all) columns EXCEPT 'sample_id' and 'gene'\n",
    "df24=df23.drop(['chr','start','end','reference','alt','effect','Amino_Acid_Change','DNA_VAF',\n",
    "               'SIFT','PolyPhen','tumor_stage','SIFT2','PolyPhen2'],axis=1)\n",
    "df25 = df24.set_index('sample_id')\n",
    "df25 = df25.sort_index(ascending=True)\n",
    "\n",
    "with pd.option_context('display.max_rows',2): display(df25) # 101757 rows × 1 columns"
   ]
  },
  {
   "cell_type": "markdown",
   "id": "999fa8ea-0a67-4b7d-bbe3-a2baf3b6ba28",
   "metadata": {},
   "source": [
    "**Select only 477 samples (which has at least 1 out of 47 drivers NBS (minmuts=0)**"
   ]
  },
  {
   "cell_type": "code",
   "execution_count": 33,
   "id": "7b9d42b1-fc0d-451f-8d9d-dd2423ad515d",
   "metadata": {},
   "outputs": [
    {
     "data": {
      "text/html": [
       "<div>\n",
       "<style scoped>\n",
       "    .dataframe tbody tr th:only-of-type {\n",
       "        vertical-align: middle;\n",
       "    }\n",
       "\n",
       "    .dataframe tbody tr th {\n",
       "        vertical-align: top;\n",
       "    }\n",
       "\n",
       "    .dataframe thead th {\n",
       "        text-align: right;\n",
       "    }\n",
       "</style>\n",
       "<table border=\"1\" class=\"dataframe\">\n",
       "  <thead>\n",
       "    <tr style=\"text-align: right;\">\n",
       "      <th></th>\n",
       "      <th>sample_id</th>\n",
       "      <th>AFF2</th>\n",
       "      <th>AMER1</th>\n",
       "      <th>ARID1A</th>\n",
       "      <th>ASXL3</th>\n",
       "      <th>ATM</th>\n",
       "      <th>BAZ2B</th>\n",
       "      <th>BRAF</th>\n",
       "      <th>CDH12</th>\n",
       "      <th>CDK12</th>\n",
       "      <th>...</th>\n",
       "      <th>RB1</th>\n",
       "      <th>RBM10</th>\n",
       "      <th>RYR2</th>\n",
       "      <th>SETD2</th>\n",
       "      <th>SMAD4</th>\n",
       "      <th>SMARCA4</th>\n",
       "      <th>SORCS3</th>\n",
       "      <th>STK11</th>\n",
       "      <th>SVEP1</th>\n",
       "      <th>TP53</th>\n",
       "    </tr>\n",
       "  </thead>\n",
       "  <tbody>\n",
       "    <tr>\n",
       "      <th>0</th>\n",
       "      <td>TCGA-05-4244-01</td>\n",
       "      <td>0.0</td>\n",
       "      <td>0.0</td>\n",
       "      <td>0.0</td>\n",
       "      <td>0.0</td>\n",
       "      <td>1.0</td>\n",
       "      <td>0.0</td>\n",
       "      <td>0.0</td>\n",
       "      <td>0.0</td>\n",
       "      <td>1.0</td>\n",
       "      <td>...</td>\n",
       "      <td>0.0</td>\n",
       "      <td>0.0</td>\n",
       "      <td>0.0</td>\n",
       "      <td>0.0</td>\n",
       "      <td>0.0</td>\n",
       "      <td>0.0</td>\n",
       "      <td>0.0</td>\n",
       "      <td>0.0</td>\n",
       "      <td>0.0</td>\n",
       "      <td>0.0</td>\n",
       "    </tr>\n",
       "    <tr>\n",
       "      <th>...</th>\n",
       "      <td>...</td>\n",
       "      <td>...</td>\n",
       "      <td>...</td>\n",
       "      <td>...</td>\n",
       "      <td>...</td>\n",
       "      <td>...</td>\n",
       "      <td>...</td>\n",
       "      <td>...</td>\n",
       "      <td>...</td>\n",
       "      <td>...</td>\n",
       "      <td>...</td>\n",
       "      <td>...</td>\n",
       "      <td>...</td>\n",
       "      <td>...</td>\n",
       "      <td>...</td>\n",
       "      <td>...</td>\n",
       "      <td>...</td>\n",
       "      <td>...</td>\n",
       "      <td>...</td>\n",
       "      <td>...</td>\n",
       "      <td>...</td>\n",
       "    </tr>\n",
       "    <tr>\n",
       "      <th>476</th>\n",
       "      <td>TCGA-O1-A52J-01</td>\n",
       "      <td>0.0</td>\n",
       "      <td>0.0</td>\n",
       "      <td>0.0</td>\n",
       "      <td>0.0</td>\n",
       "      <td>0.0</td>\n",
       "      <td>0.0</td>\n",
       "      <td>0.0</td>\n",
       "      <td>0.0</td>\n",
       "      <td>0.0</td>\n",
       "      <td>...</td>\n",
       "      <td>0.0</td>\n",
       "      <td>0.0</td>\n",
       "      <td>0.0</td>\n",
       "      <td>0.0</td>\n",
       "      <td>0.0</td>\n",
       "      <td>0.0</td>\n",
       "      <td>0.0</td>\n",
       "      <td>0.0</td>\n",
       "      <td>0.0</td>\n",
       "      <td>1.0</td>\n",
       "    </tr>\n",
       "  </tbody>\n",
       "</table>\n",
       "<p>477 rows × 48 columns</p>\n",
       "</div>"
      ],
      "text/plain": [
       "           sample_id  AFF2  AMER1  ARID1A  ASXL3  ATM  BAZ2B  BRAF  CDH12  \\\n",
       "0    TCGA-05-4244-01   0.0    0.0     0.0    0.0  1.0    0.0   0.0    0.0   \n",
       "..               ...   ...    ...     ...    ...  ...    ...   ...    ...   \n",
       "476  TCGA-O1-A52J-01   0.0    0.0     0.0    0.0  0.0    0.0   0.0    0.0   \n",
       "\n",
       "     CDK12  ...  RB1  RBM10  RYR2  SETD2  SMAD4  SMARCA4  SORCS3  STK11  \\\n",
       "0      1.0  ...  0.0    0.0   0.0    0.0    0.0      0.0     0.0    0.0   \n",
       "..     ...  ...  ...    ...   ...    ...    ...      ...     ...    ...   \n",
       "476    0.0  ...  0.0    0.0   0.0    0.0    0.0      0.0     0.0    0.0   \n",
       "\n",
       "     SVEP1  TP53  \n",
       "0      0.0   0.0  \n",
       "..     ...   ...  \n",
       "476    0.0   1.0  \n",
       "\n",
       "[477 rows x 48 columns]"
      ]
     },
     "metadata": {},
     "output_type": "display_data"
    }
   ],
   "source": [
    "# Open file to get 'sample_id' of 477 samples\n",
    "dfsam477 = pd.read_csv('../Fig_1_LUAD_driver_genes/output/6.6_OUT_cSIF_Driv47_477LUAD_toNBS_matrix_15Feb.tsv',sep='\\t',header=0)\n",
    "with pd.option_context('display.max_rows',2): display(dfsam477)"
   ]
  },
  {
   "cell_type": "code",
   "execution_count": 34,
   "id": "2ff5d2c6-b5bb-40c0-add3-81a7cb4b6dba",
   "metadata": {},
   "outputs": [
    {
     "name": "stdout",
     "output_type": "stream",
     "text": [
      "477\n",
      "16030\n"
     ]
    }
   ],
   "source": [
    "sam477 = dfsam477['sample_id'].dropna().unique().tolist()\n",
    "\n",
    "# Select 477 rows where index is 'sample_id' \n",
    "df_25 = df25.loc[sam477, [\"gene\"]]\n",
    "df_25 = df_25.reset_index()\n",
    "\n",
    "df_25 = df_25.sort_values(by='gene', ascending=True)\n",
    "\n",
    "print(len(df_25['sample_id'].dropna().unique().tolist()))\n",
    "print(len(df_25['gene'].dropna().unique().tolist()))"
   ]
  },
  {
   "cell_type": "code",
   "execution_count": 35,
   "id": "f6fffaac-3143-4854-b7d0-b1b2048177d0",
   "metadata": {},
   "outputs": [
    {
     "data": {
      "text/html": [
       "<div>\n",
       "<style scoped>\n",
       "    .dataframe tbody tr th:only-of-type {\n",
       "        vertical-align: middle;\n",
       "    }\n",
       "\n",
       "    .dataframe tbody tr th {\n",
       "        vertical-align: top;\n",
       "    }\n",
       "\n",
       "    .dataframe thead th {\n",
       "        text-align: right;\n",
       "    }\n",
       "</style>\n",
       "<table border=\"1\" class=\"dataframe\">\n",
       "  <thead>\n",
       "    <tr style=\"text-align: right;\">\n",
       "      <th></th>\n",
       "      <th>sample_id</th>\n",
       "      <th>gene</th>\n",
       "    </tr>\n",
       "  </thead>\n",
       "  <tbody>\n",
       "    <tr>\n",
       "      <th>42917</th>\n",
       "      <td>TCGA-55-8089-01</td>\n",
       "      <td>A1BG</td>\n",
       "    </tr>\n",
       "    <tr>\n",
       "      <th>...</th>\n",
       "      <td>...</td>\n",
       "      <td>...</td>\n",
       "    </tr>\n",
       "    <tr>\n",
       "      <th>60613</th>\n",
       "      <td>TCGA-69-7979-01</td>\n",
       "      <td>ZZZ3</td>\n",
       "    </tr>\n",
       "  </tbody>\n",
       "</table>\n",
       "<p>100876 rows × 2 columns</p>\n",
       "</div>"
      ],
      "text/plain": [
       "             sample_id  gene\n",
       "42917  TCGA-55-8089-01  A1BG\n",
       "...                ...   ...\n",
       "60613  TCGA-69-7979-01  ZZZ3\n",
       "\n",
       "[100876 rows x 2 columns]"
      ]
     },
     "metadata": {},
     "output_type": "display_data"
    }
   ],
   "source": [
    "geneleft16030 = df_25['gene'].dropna().unique().tolist() # 16030\n",
    "with pd.option_context('display.max_rows',2): display(df_25)"
   ]
  },
  {
   "cell_type": "markdown",
   "id": "2b1eceb3-53e6-4c6a-9e15-9fa31e0cb070",
   "metadata": {},
   "source": [
    "#### STEP2.2: Test available of gene names"
   ]
  },
  {
   "cell_type": "code",
   "execution_count": 36,
   "id": "70f3006c-6bc4-4b13-80ec-38d911a0eb2f",
   "metadata": {},
   "outputs": [
    {
     "data": {
      "text/plain": [
       "16057"
      ]
     },
     "execution_count": 36,
     "metadata": {},
     "output_type": "execute_result"
    }
   ],
   "source": [
    "# Extra: Get all gene names\n",
    "All16057 = df24['gene'].dropna().unique().tolist()\n",
    "len(All16057)"
   ]
  },
  {
   "cell_type": "code",
   "execution_count": 37,
   "id": "6c90e0d7-5c74-441e-8453-1ff9523dc921",
   "metadata": {},
   "outputs": [
    {
     "name": "stdout",
     "output_type": "stream",
     "text": [
      "['ARFRP1', 'AURKA', 'BCL2L2', 'CBFB', 'CD274', 'CD74', 'CDKN2B', 'CDKN2C', 'CEBPA', 'ETV4', 'FANCC', 'FANCL', 'H3F3A', 'MEF2B', 'MITF', 'PRKAR1A', 'RAC1', 'RAD52', 'SDHB', 'SDHC', 'SOCS1', 'SOX2', 'TERC', 'TIPARP', 'VHL']\n"
     ]
    }
   ],
   "source": [
    "notlistA = []\n",
    "for i in list(range(len(drivlist324))):\n",
    "    if drivlist324[i] not in All16057: # FoundationOne_324\n",
    "        notlistA.append(drivlist324[i])\n",
    "print(notlistA)"
   ]
  },
  {
   "cell_type": "code",
   "execution_count": 38,
   "id": "c36346be-1ab8-4289-8414-75a3b3ca49d8",
   "metadata": {},
   "outputs": [
    {
     "name": "stdout",
     "output_type": "stream",
     "text": [
      "['VHL']\n"
     ]
    }
   ],
   "source": [
    "notlistB = []\n",
    "for i in list(range(len(drivlist48))): # Truseq_48\n",
    "    if drivlist48[i] not in All16057: \n",
    "        notlistB.append(drivlist48[i])\n",
    "print(notlistB)"
   ]
  },
  {
   "cell_type": "code",
   "execution_count": 39,
   "id": "f1834426-82d3-41e1-a9a1-d33285bcc373",
   "metadata": {},
   "outputs": [
    {
     "name": "stdout",
     "output_type": "stream",
     "text": [
      "['CBFB', 'CDKN2C', 'CEBPA', 'MALAT1', 'MIR142', 'VHL']\n"
     ]
    }
   ],
   "source": [
    "notlistC = []\n",
    "for i in list(range(len(drivlist127))): # PanCan_127\n",
    "    if drivlist127[i] not in All16057: \n",
    "        notlistC.append(drivlist127[i])\n",
    "print(notlistC)"
   ]
  },
  {
   "cell_type": "markdown",
   "id": "33e56b0c-9fd0-41dc-93f9-09492fb8c4de",
   "metadata": {},
   "source": [
    "**Remove unavailable gene names from list**"
   ]
  },
  {
   "cell_type": "code",
   "execution_count": 41,
   "id": "ff51363f-94f5-409e-bfed-0aee5e1fe89f",
   "metadata": {},
   "outputs": [
    {
     "data": {
      "text/plain": [
       "324"
      ]
     },
     "metadata": {},
     "output_type": "display_data"
    },
    {
     "data": {
      "text/plain": [
       "48"
      ]
     },
     "metadata": {},
     "output_type": "display_data"
    },
    {
     "data": {
      "text/plain": [
       "127"
      ]
     },
     "metadata": {},
     "output_type": "display_data"
    },
    {
     "data": {
      "text/plain": [
       "299"
      ]
     },
     "metadata": {},
     "output_type": "display_data"
    },
    {
     "data": {
      "text/plain": [
       "47"
      ]
     },
     "metadata": {},
     "output_type": "display_data"
    },
    {
     "data": {
      "text/plain": [
       "121"
      ]
     },
     "metadata": {},
     "output_type": "display_data"
    }
   ],
   "source": [
    "driveF1_299 = drivlist324.copy() # len(notlistA) # 25 --> 324-25 = 299 \n",
    "driveTS_47 = drivlist48.copy() # len(notlistB) # 1 --> 48-1 = 47 \n",
    "drivePC_121 = drivlist127.copy() # len(notlistC) # 6 --> 127-6 = 121\n",
    "\n",
    "for i in list(range(len(notlistA))):\n",
    "    driveF1_299.remove(notlistA[i])\n",
    "    \n",
    "for i in list(range(len(notlistB))):\n",
    "    driveTS_47.remove(notlistB[i])\n",
    "    \n",
    "for i in list(range(len(notlistC))):\n",
    "    drivePC_121.remove(notlistC[i])\n",
    "\n",
    "display(len(drivlist324),len(drivlist48),len(drivlist127))\n",
    "display(len(driveF1_299),len(driveTS_47),len(drivePC_121))"
   ]
  },
  {
   "cell_type": "markdown",
   "id": "0e3969e3-f245-4791-83dd-9a6119058dca",
   "metadata": {},
   "source": [
    "**Remove unavailable gene names after selecting 477 samples**"
   ]
  },
  {
   "cell_type": "code",
   "execution_count": 42,
   "id": "e041cc50-cf71-40f7-b479-d5ebdbe8a593",
   "metadata": {},
   "outputs": [
    {
     "data": {
      "text/plain": [
       "16030"
      ]
     },
     "execution_count": 42,
     "metadata": {},
     "output_type": "execute_result"
    }
   ],
   "source": [
    "len(geneleft16030)"
   ]
  },
  {
   "cell_type": "code",
   "execution_count": 43,
   "id": "b89b03fa-3078-4356-9def-be8aab2eb696",
   "metadata": {},
   "outputs": [
    {
     "name": "stdout",
     "output_type": "stream",
     "text": [
      "[]\n"
     ]
    }
   ],
   "source": [
    "notlistAA = []\n",
    "for i in list(range(len(driveF1_299))):\n",
    "    if driveF1_299[i] not in geneleft16030: # FoundationOne_324 --> 299\n",
    "        notlistAA.append(driveF1_299[i])\n",
    "print(notlistAA) #len = 0"
   ]
  },
  {
   "cell_type": "code",
   "execution_count": 44,
   "id": "c7aeb832-64e1-4766-9f39-4b699ff5b3a8",
   "metadata": {},
   "outputs": [
    {
     "name": "stdout",
     "output_type": "stream",
     "text": [
      "[]\n"
     ]
    }
   ],
   "source": [
    "notlistBB = []\n",
    "for i in list(range(len(driveTS_47))):\n",
    "    if driveTS_47[i] not in geneleft16030: # Truseq_48 --> 47\n",
    "        notlistBB.append(driveTS_47[i])\n",
    "print(notlistBB) #len = 0"
   ]
  },
  {
   "cell_type": "code",
   "execution_count": 45,
   "id": "a1144b51-e2ec-42a9-9ee0-bb68bdea084d",
   "metadata": {},
   "outputs": [
    {
     "name": "stdout",
     "output_type": "stream",
     "text": [
      "[]\n"
     ]
    }
   ],
   "source": [
    "notlistCC = []\n",
    "for i in list(range(len(drivePC_121))):\n",
    "    if drivePC_121[i] not in geneleft16030: # PanCan_127 --> 121\n",
    "        notlistCC.append(drivePC_121[i])\n",
    "print(notlistCC) #len = 0"
   ]
  },
  {
   "cell_type": "code",
   "execution_count": 46,
   "id": "5a2e4484-5512-4d30-b820-85a7e121d75d",
   "metadata": {},
   "outputs": [
    {
     "data": {
      "text/plain": [
       "324"
      ]
     },
     "metadata": {},
     "output_type": "display_data"
    },
    {
     "data": {
      "text/plain": [
       "48"
      ]
     },
     "metadata": {},
     "output_type": "display_data"
    },
    {
     "data": {
      "text/plain": [
       "127"
      ]
     },
     "metadata": {},
     "output_type": "display_data"
    },
    {
     "data": {
      "text/plain": [
       "299"
      ]
     },
     "metadata": {},
     "output_type": "display_data"
    },
    {
     "data": {
      "text/plain": [
       "47"
      ]
     },
     "metadata": {},
     "output_type": "display_data"
    },
    {
     "data": {
      "text/plain": [
       "121"
      ]
     },
     "metadata": {},
     "output_type": "display_data"
    }
   ],
   "source": [
    "# FoundationOne_324 --> 299\n",
    "# Truseq_48 --> 47\n",
    "# PanCan_127 --> 121\n",
    "display(len(drivlist324),len(drivlist48),len(drivlist127)) \n",
    "display(len(driveF1_299),len(driveTS_47),len(drivePC_121))\n",
    "#display(len(driveF1_289),len(driveTS_46),len(drivePC_120))"
   ]
  },
  {
   "cell_type": "code",
   "execution_count": null,
   "id": "a5e225fd-ff49-4609-9891-3e4bf7f49f21",
   "metadata": {},
   "outputs": [],
   "source": []
  },
  {
   "cell_type": "markdown",
   "id": "c68865a2-1a38-487a-af7b-1992c77c9833",
   "metadata": {},
   "source": [
    "#### STEP2.3: Finally select gene panels"
   ]
  },
  {
   "cell_type": "code",
   "execution_count": 47,
   "id": "4d964fe7-0e69-4c90-97dd-1e76986b0a6e",
   "metadata": {},
   "outputs": [
    {
     "data": {
      "text/html": [
       "<div>\n",
       "<style scoped>\n",
       "    .dataframe tbody tr th:only-of-type {\n",
       "        vertical-align: middle;\n",
       "    }\n",
       "\n",
       "    .dataframe tbody tr th {\n",
       "        vertical-align: top;\n",
       "    }\n",
       "\n",
       "    .dataframe thead th {\n",
       "        text-align: right;\n",
       "    }\n",
       "</style>\n",
       "<table border=\"1\" class=\"dataframe\">\n",
       "  <thead>\n",
       "    <tr style=\"text-align: right;\">\n",
       "      <th></th>\n",
       "      <th>gene</th>\n",
       "      <th>sample_id</th>\n",
       "    </tr>\n",
       "  </thead>\n",
       "  <tbody>\n",
       "    <tr>\n",
       "      <th>0</th>\n",
       "      <td>ABL1</td>\n",
       "      <td>TCGA-78-7220-01</td>\n",
       "    </tr>\n",
       "    <tr>\n",
       "      <th>...</th>\n",
       "      <td>...</td>\n",
       "      <td>...</td>\n",
       "    </tr>\n",
       "    <tr>\n",
       "      <th>3264</th>\n",
       "      <td>ZNF703</td>\n",
       "      <td>TCGA-97-8176-01</td>\n",
       "    </tr>\n",
       "  </tbody>\n",
       "</table>\n",
       "<p>3265 rows × 2 columns</p>\n",
       "</div>"
      ],
      "text/plain": [
       "        gene        sample_id\n",
       "0       ABL1  TCGA-78-7220-01\n",
       "...      ...              ...\n",
       "3264  ZNF703  TCGA-97-8176-01\n",
       "\n",
       "[3265 rows x 2 columns]"
      ]
     },
     "metadata": {},
     "output_type": "display_data"
    }
   ],
   "source": [
    "df26 = df_25.set_index('gene')\n",
    "\n",
    "# Select rows where index is gene names of each gene panel\n",
    "df27A = df26.loc[driveF1_299, [\"sample_id\"]] # FoundationOne_324 --> 299 \n",
    "df27B = df26.loc[driveTS_47, [\"sample_id\"]] # Truseq_48 --> 47 \n",
    "df27C = df26.loc[drivePC_121, [\"sample_id\"]] # PanCan_127 --> 121 \n",
    "\n",
    "# Turn gene index back to column\n",
    "df28A = df27A.reset_index(drop=False) # get column 'gene' back\n",
    "df28B = df27B.reset_index(drop=False) # get column 'gene' back\n",
    "df28C = df27C.reset_index(drop=False) # get column 'gene' back\n",
    "\n",
    "with pd.option_context('display.max_rows',2): display(df28A) # x rows (mutations) × 2 columns"
   ]
  },
  {
   "cell_type": "code",
   "execution_count": 48,
   "id": "17365e3f-72b7-408c-ab7d-a692eab6cdac",
   "metadata": {},
   "outputs": [],
   "source": [
    "# Make pivot table using gene as columns: because will feed input to NBS as matrix file (list file get error)\n",
    "df28A['COUNT'] = 1\n",
    "df29A= df28A.pivot_table('COUNT', index=('sample_id'),columns=\"gene\").fillna(0)\n",
    "df29A = pd.DataFrame(df29A)\n",
    "\n",
    "df28B['COUNT'] = 1\n",
    "df29B= df28B.pivot_table('COUNT', index=('sample_id'),columns=\"gene\").fillna(0)\n",
    "df29B = pd.DataFrame(df29B)\n",
    "\n",
    "df28C['COUNT'] = 1\n",
    "df29C= df28C.pivot_table('COUNT', index=('sample_id'),columns=\"gene\").fillna(0)\n",
    "df29C = pd.DataFrame(df29C)"
   ]
  },
  {
   "cell_type": "code",
   "execution_count": 49,
   "id": "6873195d-a84f-4ab8-94c2-2b770491c207",
   "metadata": {},
   "outputs": [
    {
     "data": {
      "text/html": [
       "<div>\n",
       "<style scoped>\n",
       "    .dataframe tbody tr th:only-of-type {\n",
       "        vertical-align: middle;\n",
       "    }\n",
       "\n",
       "    .dataframe tbody tr th {\n",
       "        vertical-align: top;\n",
       "    }\n",
       "\n",
       "    .dataframe thead th {\n",
       "        text-align: right;\n",
       "    }\n",
       "</style>\n",
       "<table border=\"1\" class=\"dataframe\">\n",
       "  <thead>\n",
       "    <tr style=\"text-align: right;\">\n",
       "      <th>gene</th>\n",
       "      <th>ABL1</th>\n",
       "      <th>ACVR1B</th>\n",
       "      <th>AKT1</th>\n",
       "      <th>AKT2</th>\n",
       "      <th>AKT3</th>\n",
       "      <th>ALK</th>\n",
       "      <th>ALOX12B</th>\n",
       "      <th>AMER1</th>\n",
       "      <th>APC</th>\n",
       "      <th>AR</th>\n",
       "      <th>...</th>\n",
       "      <th>TYRO3</th>\n",
       "      <th>U2AF1</th>\n",
       "      <th>VEGFA</th>\n",
       "      <th>WHSC1</th>\n",
       "      <th>WHSC1L1</th>\n",
       "      <th>WT1</th>\n",
       "      <th>XPO1</th>\n",
       "      <th>XRCC2</th>\n",
       "      <th>ZNF217</th>\n",
       "      <th>ZNF703</th>\n",
       "    </tr>\n",
       "    <tr>\n",
       "      <th>sample_id</th>\n",
       "      <th></th>\n",
       "      <th></th>\n",
       "      <th></th>\n",
       "      <th></th>\n",
       "      <th></th>\n",
       "      <th></th>\n",
       "      <th></th>\n",
       "      <th></th>\n",
       "      <th></th>\n",
       "      <th></th>\n",
       "      <th></th>\n",
       "      <th></th>\n",
       "      <th></th>\n",
       "      <th></th>\n",
       "      <th></th>\n",
       "      <th></th>\n",
       "      <th></th>\n",
       "      <th></th>\n",
       "      <th></th>\n",
       "      <th></th>\n",
       "      <th></th>\n",
       "    </tr>\n",
       "  </thead>\n",
       "  <tbody>\n",
       "    <tr>\n",
       "      <th>TCGA-05-4244-01</th>\n",
       "      <td>0.0</td>\n",
       "      <td>0.0</td>\n",
       "      <td>0.0</td>\n",
       "      <td>0.0</td>\n",
       "      <td>0.0</td>\n",
       "      <td>0.0</td>\n",
       "      <td>0.0</td>\n",
       "      <td>0.0</td>\n",
       "      <td>0.0</td>\n",
       "      <td>0.0</td>\n",
       "      <td>...</td>\n",
       "      <td>0.0</td>\n",
       "      <td>0.0</td>\n",
       "      <td>0.0</td>\n",
       "      <td>0.0</td>\n",
       "      <td>0.0</td>\n",
       "      <td>0.0</td>\n",
       "      <td>0.0</td>\n",
       "      <td>0.0</td>\n",
       "      <td>0.0</td>\n",
       "      <td>0.0</td>\n",
       "    </tr>\n",
       "    <tr>\n",
       "      <th>...</th>\n",
       "      <td>...</td>\n",
       "      <td>...</td>\n",
       "      <td>...</td>\n",
       "      <td>...</td>\n",
       "      <td>...</td>\n",
       "      <td>...</td>\n",
       "      <td>...</td>\n",
       "      <td>...</td>\n",
       "      <td>...</td>\n",
       "      <td>...</td>\n",
       "      <td>...</td>\n",
       "      <td>...</td>\n",
       "      <td>...</td>\n",
       "      <td>...</td>\n",
       "      <td>...</td>\n",
       "      <td>...</td>\n",
       "      <td>...</td>\n",
       "      <td>...</td>\n",
       "      <td>...</td>\n",
       "      <td>...</td>\n",
       "      <td>...</td>\n",
       "    </tr>\n",
       "    <tr>\n",
       "      <th>TCGA-O1-A52J-01</th>\n",
       "      <td>0.0</td>\n",
       "      <td>0.0</td>\n",
       "      <td>0.0</td>\n",
       "      <td>0.0</td>\n",
       "      <td>0.0</td>\n",
       "      <td>0.0</td>\n",
       "      <td>0.0</td>\n",
       "      <td>0.0</td>\n",
       "      <td>0.0</td>\n",
       "      <td>1.0</td>\n",
       "      <td>...</td>\n",
       "      <td>0.0</td>\n",
       "      <td>0.0</td>\n",
       "      <td>0.0</td>\n",
       "      <td>0.0</td>\n",
       "      <td>0.0</td>\n",
       "      <td>0.0</td>\n",
       "      <td>0.0</td>\n",
       "      <td>0.0</td>\n",
       "      <td>0.0</td>\n",
       "      <td>0.0</td>\n",
       "    </tr>\n",
       "  </tbody>\n",
       "</table>\n",
       "<p>473 rows × 299 columns</p>\n",
       "</div>"
      ],
      "text/plain": [
       "gene             ABL1  ACVR1B  AKT1  AKT2  AKT3  ALK  ALOX12B  AMER1  APC  \\\n",
       "sample_id                                                                   \n",
       "TCGA-05-4244-01   0.0     0.0   0.0   0.0   0.0  0.0      0.0    0.0  0.0   \n",
       "...               ...     ...   ...   ...   ...  ...      ...    ...  ...   \n",
       "TCGA-O1-A52J-01   0.0     0.0   0.0   0.0   0.0  0.0      0.0    0.0  0.0   \n",
       "\n",
       "gene              AR  ...  TYRO3  U2AF1  VEGFA  WHSC1  WHSC1L1  WT1  XPO1  \\\n",
       "sample_id             ...                                                   \n",
       "TCGA-05-4244-01  0.0  ...    0.0    0.0    0.0    0.0      0.0  0.0   0.0   \n",
       "...              ...  ...    ...    ...    ...    ...      ...  ...   ...   \n",
       "TCGA-O1-A52J-01  1.0  ...    0.0    0.0    0.0    0.0      0.0  0.0   0.0   \n",
       "\n",
       "gene             XRCC2  ZNF217  ZNF703  \n",
       "sample_id                               \n",
       "TCGA-05-4244-01    0.0     0.0     0.0  \n",
       "...                ...     ...     ...  \n",
       "TCGA-O1-A52J-01    0.0     0.0     0.0  \n",
       "\n",
       "[473 rows x 299 columns]"
      ]
     },
     "metadata": {},
     "output_type": "display_data"
    }
   ],
   "source": [
    "# Conclusion:\n",
    "# FoundationOne_324:  505 reduced to 477 --> 473 samples and 299 genes\n",
    "with pd.option_context('display.max_rows',2): display(df29A) "
   ]
  },
  {
   "cell_type": "code",
   "execution_count": 50,
   "id": "f87744dc-4249-4529-a50e-1ad0bf5d59f8",
   "metadata": {},
   "outputs": [
    {
     "data": {
      "text/html": [
       "<div>\n",
       "<style scoped>\n",
       "    .dataframe tbody tr th:only-of-type {\n",
       "        vertical-align: middle;\n",
       "    }\n",
       "\n",
       "    .dataframe tbody tr th {\n",
       "        vertical-align: top;\n",
       "    }\n",
       "\n",
       "    .dataframe thead th {\n",
       "        text-align: right;\n",
       "    }\n",
       "</style>\n",
       "<table border=\"1\" class=\"dataframe\">\n",
       "  <thead>\n",
       "    <tr style=\"text-align: right;\">\n",
       "      <th>gene</th>\n",
       "      <th>ABL1</th>\n",
       "      <th>AKT1</th>\n",
       "      <th>ALK</th>\n",
       "      <th>APC</th>\n",
       "      <th>ATM</th>\n",
       "      <th>BRAF</th>\n",
       "      <th>CDH1</th>\n",
       "      <th>CDKN2A</th>\n",
       "      <th>CSF1R</th>\n",
       "      <th>CTNNB1</th>\n",
       "      <th>...</th>\n",
       "      <th>PTEN</th>\n",
       "      <th>PTPN11</th>\n",
       "      <th>RB1</th>\n",
       "      <th>RET</th>\n",
       "      <th>SMAD4</th>\n",
       "      <th>SMARCB1</th>\n",
       "      <th>SMO</th>\n",
       "      <th>SRC</th>\n",
       "      <th>STK11</th>\n",
       "      <th>TP53</th>\n",
       "    </tr>\n",
       "    <tr>\n",
       "      <th>sample_id</th>\n",
       "      <th></th>\n",
       "      <th></th>\n",
       "      <th></th>\n",
       "      <th></th>\n",
       "      <th></th>\n",
       "      <th></th>\n",
       "      <th></th>\n",
       "      <th></th>\n",
       "      <th></th>\n",
       "      <th></th>\n",
       "      <th></th>\n",
       "      <th></th>\n",
       "      <th></th>\n",
       "      <th></th>\n",
       "      <th></th>\n",
       "      <th></th>\n",
       "      <th></th>\n",
       "      <th></th>\n",
       "      <th></th>\n",
       "      <th></th>\n",
       "      <th></th>\n",
       "    </tr>\n",
       "  </thead>\n",
       "  <tbody>\n",
       "    <tr>\n",
       "      <th>TCGA-05-4244-01</th>\n",
       "      <td>0.0</td>\n",
       "      <td>0.0</td>\n",
       "      <td>0.0</td>\n",
       "      <td>0.0</td>\n",
       "      <td>1.0</td>\n",
       "      <td>0.0</td>\n",
       "      <td>0.0</td>\n",
       "      <td>0.0</td>\n",
       "      <td>0.0</td>\n",
       "      <td>0.0</td>\n",
       "      <td>...</td>\n",
       "      <td>0.0</td>\n",
       "      <td>0.0</td>\n",
       "      <td>0.0</td>\n",
       "      <td>0.0</td>\n",
       "      <td>0.0</td>\n",
       "      <td>0.0</td>\n",
       "      <td>0.0</td>\n",
       "      <td>0.0</td>\n",
       "      <td>0.0</td>\n",
       "      <td>0.0</td>\n",
       "    </tr>\n",
       "    <tr>\n",
       "      <th>...</th>\n",
       "      <td>...</td>\n",
       "      <td>...</td>\n",
       "      <td>...</td>\n",
       "      <td>...</td>\n",
       "      <td>...</td>\n",
       "      <td>...</td>\n",
       "      <td>...</td>\n",
       "      <td>...</td>\n",
       "      <td>...</td>\n",
       "      <td>...</td>\n",
       "      <td>...</td>\n",
       "      <td>...</td>\n",
       "      <td>...</td>\n",
       "      <td>...</td>\n",
       "      <td>...</td>\n",
       "      <td>...</td>\n",
       "      <td>...</td>\n",
       "      <td>...</td>\n",
       "      <td>...</td>\n",
       "      <td>...</td>\n",
       "      <td>...</td>\n",
       "    </tr>\n",
       "    <tr>\n",
       "      <th>TCGA-O1-A52J-01</th>\n",
       "      <td>0.0</td>\n",
       "      <td>0.0</td>\n",
       "      <td>0.0</td>\n",
       "      <td>0.0</td>\n",
       "      <td>0.0</td>\n",
       "      <td>0.0</td>\n",
       "      <td>0.0</td>\n",
       "      <td>0.0</td>\n",
       "      <td>0.0</td>\n",
       "      <td>0.0</td>\n",
       "      <td>...</td>\n",
       "      <td>0.0</td>\n",
       "      <td>0.0</td>\n",
       "      <td>0.0</td>\n",
       "      <td>0.0</td>\n",
       "      <td>0.0</td>\n",
       "      <td>0.0</td>\n",
       "      <td>1.0</td>\n",
       "      <td>0.0</td>\n",
       "      <td>0.0</td>\n",
       "      <td>1.0</td>\n",
       "    </tr>\n",
       "  </tbody>\n",
       "</table>\n",
       "<p>447 rows × 47 columns</p>\n",
       "</div>"
      ],
      "text/plain": [
       "gene             ABL1  AKT1  ALK  APC  ATM  BRAF  CDH1  CDKN2A  CSF1R  CTNNB1  \\\n",
       "sample_id                                                                       \n",
       "TCGA-05-4244-01   0.0   0.0  0.0  0.0  1.0   0.0   0.0     0.0    0.0     0.0   \n",
       "...               ...   ...  ...  ...  ...   ...   ...     ...    ...     ...   \n",
       "TCGA-O1-A52J-01   0.0   0.0  0.0  0.0  0.0   0.0   0.0     0.0    0.0     0.0   \n",
       "\n",
       "gene             ...  PTEN  PTPN11  RB1  RET  SMAD4  SMARCB1  SMO  SRC  STK11  \\\n",
       "sample_id        ...                                                            \n",
       "TCGA-05-4244-01  ...   0.0     0.0  0.0  0.0    0.0      0.0  0.0  0.0    0.0   \n",
       "...              ...   ...     ...  ...  ...    ...      ...  ...  ...    ...   \n",
       "TCGA-O1-A52J-01  ...   0.0     0.0  0.0  0.0    0.0      0.0  1.0  0.0    0.0   \n",
       "\n",
       "gene             TP53  \n",
       "sample_id              \n",
       "TCGA-05-4244-01   0.0  \n",
       "...               ...  \n",
       "TCGA-O1-A52J-01   1.0  \n",
       "\n",
       "[447 rows x 47 columns]"
      ]
     },
     "metadata": {},
     "output_type": "display_data"
    }
   ],
   "source": [
    "# Conclusion:\n",
    "# Truseq_48:  505 reduced to 477 --> 447 samples and 47 genes\n",
    "with pd.option_context('display.max_rows',2): display(df29B) "
   ]
  },
  {
   "cell_type": "code",
   "execution_count": 51,
   "id": "b3515808-aedb-4abb-8ec4-d911d62d37ee",
   "metadata": {},
   "outputs": [
    {
     "data": {
      "text/html": [
       "<div>\n",
       "<style scoped>\n",
       "    .dataframe tbody tr th:only-of-type {\n",
       "        vertical-align: middle;\n",
       "    }\n",
       "\n",
       "    .dataframe tbody tr th {\n",
       "        vertical-align: top;\n",
       "    }\n",
       "\n",
       "    .dataframe thead th {\n",
       "        text-align: right;\n",
       "    }\n",
       "</style>\n",
       "<table border=\"1\" class=\"dataframe\">\n",
       "  <thead>\n",
       "    <tr style=\"text-align: right;\">\n",
       "      <th>gene</th>\n",
       "      <th>ACVR1B</th>\n",
       "      <th>ACVR2A</th>\n",
       "      <th>AJUBA</th>\n",
       "      <th>AKT1</th>\n",
       "      <th>APC</th>\n",
       "      <th>AR</th>\n",
       "      <th>ARHGAP35</th>\n",
       "      <th>ARID1A</th>\n",
       "      <th>ARID5B</th>\n",
       "      <th>ASXL1</th>\n",
       "      <th>...</th>\n",
       "      <th>TET2</th>\n",
       "      <th>TGFBR2</th>\n",
       "      <th>TLR4</th>\n",
       "      <th>TP53</th>\n",
       "      <th>TSHZ2</th>\n",
       "      <th>TSHZ3</th>\n",
       "      <th>U2AF1</th>\n",
       "      <th>USP9X</th>\n",
       "      <th>VEZF1</th>\n",
       "      <th>WT1</th>\n",
       "    </tr>\n",
       "    <tr>\n",
       "      <th>sample_id</th>\n",
       "      <th></th>\n",
       "      <th></th>\n",
       "      <th></th>\n",
       "      <th></th>\n",
       "      <th></th>\n",
       "      <th></th>\n",
       "      <th></th>\n",
       "      <th></th>\n",
       "      <th></th>\n",
       "      <th></th>\n",
       "      <th></th>\n",
       "      <th></th>\n",
       "      <th></th>\n",
       "      <th></th>\n",
       "      <th></th>\n",
       "      <th></th>\n",
       "      <th></th>\n",
       "      <th></th>\n",
       "      <th></th>\n",
       "      <th></th>\n",
       "      <th></th>\n",
       "    </tr>\n",
       "  </thead>\n",
       "  <tbody>\n",
       "    <tr>\n",
       "      <th>TCGA-05-4244-01</th>\n",
       "      <td>0.0</td>\n",
       "      <td>0.0</td>\n",
       "      <td>0.0</td>\n",
       "      <td>0.0</td>\n",
       "      <td>0.0</td>\n",
       "      <td>0.0</td>\n",
       "      <td>0.0</td>\n",
       "      <td>0.0</td>\n",
       "      <td>0.0</td>\n",
       "      <td>0.0</td>\n",
       "      <td>...</td>\n",
       "      <td>0.0</td>\n",
       "      <td>0.0</td>\n",
       "      <td>0.0</td>\n",
       "      <td>0.0</td>\n",
       "      <td>0.0</td>\n",
       "      <td>0.0</td>\n",
       "      <td>0.0</td>\n",
       "      <td>0.0</td>\n",
       "      <td>0.0</td>\n",
       "      <td>0.0</td>\n",
       "    </tr>\n",
       "    <tr>\n",
       "      <th>...</th>\n",
       "      <td>...</td>\n",
       "      <td>...</td>\n",
       "      <td>...</td>\n",
       "      <td>...</td>\n",
       "      <td>...</td>\n",
       "      <td>...</td>\n",
       "      <td>...</td>\n",
       "      <td>...</td>\n",
       "      <td>...</td>\n",
       "      <td>...</td>\n",
       "      <td>...</td>\n",
       "      <td>...</td>\n",
       "      <td>...</td>\n",
       "      <td>...</td>\n",
       "      <td>...</td>\n",
       "      <td>...</td>\n",
       "      <td>...</td>\n",
       "      <td>...</td>\n",
       "      <td>...</td>\n",
       "      <td>...</td>\n",
       "      <td>...</td>\n",
       "    </tr>\n",
       "    <tr>\n",
       "      <th>TCGA-O1-A52J-01</th>\n",
       "      <td>0.0</td>\n",
       "      <td>0.0</td>\n",
       "      <td>0.0</td>\n",
       "      <td>0.0</td>\n",
       "      <td>0.0</td>\n",
       "      <td>1.0</td>\n",
       "      <td>0.0</td>\n",
       "      <td>0.0</td>\n",
       "      <td>0.0</td>\n",
       "      <td>0.0</td>\n",
       "      <td>...</td>\n",
       "      <td>0.0</td>\n",
       "      <td>0.0</td>\n",
       "      <td>0.0</td>\n",
       "      <td>1.0</td>\n",
       "      <td>0.0</td>\n",
       "      <td>0.0</td>\n",
       "      <td>0.0</td>\n",
       "      <td>0.0</td>\n",
       "      <td>0.0</td>\n",
       "      <td>0.0</td>\n",
       "    </tr>\n",
       "  </tbody>\n",
       "</table>\n",
       "<p>466 rows × 121 columns</p>\n",
       "</div>"
      ],
      "text/plain": [
       "gene             ACVR1B  ACVR2A  AJUBA  AKT1  APC   AR  ARHGAP35  ARID1A  \\\n",
       "sample_id                                                                  \n",
       "TCGA-05-4244-01     0.0     0.0    0.0   0.0  0.0  0.0       0.0     0.0   \n",
       "...                 ...     ...    ...   ...  ...  ...       ...     ...   \n",
       "TCGA-O1-A52J-01     0.0     0.0    0.0   0.0  0.0  1.0       0.0     0.0   \n",
       "\n",
       "gene             ARID5B  ASXL1  ...  TET2  TGFBR2  TLR4  TP53  TSHZ2  TSHZ3  \\\n",
       "sample_id                       ...                                           \n",
       "TCGA-05-4244-01     0.0    0.0  ...   0.0     0.0   0.0   0.0    0.0    0.0   \n",
       "...                 ...    ...  ...   ...     ...   ...   ...    ...    ...   \n",
       "TCGA-O1-A52J-01     0.0    0.0  ...   0.0     0.0   0.0   1.0    0.0    0.0   \n",
       "\n",
       "gene             U2AF1  USP9X  VEZF1  WT1  \n",
       "sample_id                                  \n",
       "TCGA-05-4244-01    0.0    0.0    0.0  0.0  \n",
       "...                ...    ...    ...  ...  \n",
       "TCGA-O1-A52J-01    0.0    0.0    0.0  0.0  \n",
       "\n",
       "[466 rows x 121 columns]"
      ]
     },
     "metadata": {},
     "output_type": "display_data"
    }
   ],
   "source": [
    "# Conclusion:\n",
    "# PanCan_127:  505 reduced to 466 samples and 121 genes\n",
    "with pd.option_context('display.max_rows',2): display(df29C) "
   ]
  },
  {
   "cell_type": "code",
   "execution_count": 52,
   "id": "04efaae7-90e1-4a58-8111-e3acc9b5bf94",
   "metadata": {},
   "outputs": [],
   "source": [
    "# Export pivot table as matrix file for input in NBS\n",
    "df29A.to_csv('./output/6.6_OUT_cSIF_1)FoundationOne299_473LUAD_toNBS_matrix_28Aug.tsv', sep=\"\\t\",index=True)\n",
    "df29B.to_csv('./output/6.6_OUT_cSIF_2)Truseq47_447LUAD_toNBS_matrix_28Aug.tsv', sep=\"\\t\",index=True) \n",
    "df29C.to_csv('./output/6.6_OUT_cSIF_3)PanCan121_466LUAD_toNBS_matrix_28Aug.tsv', sep=\"\\t\",index=True) "
   ]
  },
  {
   "cell_type": "code",
   "execution_count": null,
   "id": "95c84142-7a02-46a6-8bcf-d3444ac8530c",
   "metadata": {},
   "outputs": [],
   "source": []
  }
 ],
 "metadata": {
  "kernelspec": {
   "display_name": "Python 3",
   "language": "python",
   "name": "python3"
  },
  "language_info": {
   "codemirror_mode": {
    "name": "ipython",
    "version": 3
   },
   "file_extension": ".py",
   "mimetype": "text/x-python",
   "name": "python",
   "nbconvert_exporter": "python",
   "pygments_lexer": "ipython3",
   "version": "3.6.12"
  }
 },
 "nbformat": 4,
 "nbformat_minor": 5
}
